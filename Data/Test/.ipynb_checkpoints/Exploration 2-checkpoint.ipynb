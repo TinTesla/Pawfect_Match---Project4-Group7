{
 "cells": [
  {
   "cell_type": "code",
   "execution_count": 1,
   "id": "75955382",
   "metadata": {},
   "outputs": [],
   "source": [
    "# Import dependencies\n",
    "import pandas as pd\n",
    "import tensorflow as tf\n",
    "import matplotlib.pyplot as plt\n",
    "import plotly.express as px\n",
    "import plotly.subplots as sp\n",
    "import numpy as np\n",
    "import plotly.graph_objects as go\n",
    "import mplcursors \n",
    "from sklearn.preprocessing import MinMaxScaler\n",
    "from simplification.cutil import simplify_coords\n",
    "from scipy.interpolate import interp1d"
   ]
  },
  {
   "cell_type": "code",
   "execution_count": 2,
   "id": "7e52c7b9",
   "metadata": {},
   "outputs": [
    {
     "data": {
      "text/html": [
       "<div>\n",
       "<style scoped>\n",
       "    .dataframe tbody tr th:only-of-type {\n",
       "        vertical-align: middle;\n",
       "    }\n",
       "\n",
       "    .dataframe tbody tr th {\n",
       "        vertical-align: top;\n",
       "    }\n",
       "\n",
       "    .dataframe thead th {\n",
       "        text-align: right;\n",
       "    }\n",
       "</style>\n",
       "<table border=\"1\" class=\"dataframe\">\n",
       "  <thead>\n",
       "    <tr style=\"text-align: right;\">\n",
       "      <th></th>\n",
       "      <th>Breed</th>\n",
       "      <th>Description</th>\n",
       "      <th>Temperament</th>\n",
       "      <th>Ranking</th>\n",
       "      <th>Height (min)</th>\n",
       "      <th>Height (max)</th>\n",
       "      <th>Weight (min)</th>\n",
       "      <th>Weight (max)</th>\n",
       "      <th>Lifespan (min)</th>\n",
       "      <th>Lifespan (max)</th>\n",
       "      <th>...</th>\n",
       "      <th>Grooming Frequency (value)</th>\n",
       "      <th>Grooming Frequency (group)</th>\n",
       "      <th>Shedding (value)</th>\n",
       "      <th>Shedding (group)</th>\n",
       "      <th>Energy Level (value)</th>\n",
       "      <th>Energy Level (group)</th>\n",
       "      <th>Trainability (value)</th>\n",
       "      <th>Trainability (group)</th>\n",
       "      <th>Demeanor (value)</th>\n",
       "      <th>Demeanor (group)</th>\n",
       "    </tr>\n",
       "  </thead>\n",
       "  <tbody>\n",
       "    <tr>\n",
       "      <th>0</th>\n",
       "      <td>Affenpinscher</td>\n",
       "      <td>The Affenâs apish look has been described ma...</td>\n",
       "      <td>Confident, Famously Funny, Fearless</td>\n",
       "      <td>148</td>\n",
       "      <td>22.86</td>\n",
       "      <td>29.21</td>\n",
       "      <td>3.175147</td>\n",
       "      <td>4.535924</td>\n",
       "      <td>12.0</td>\n",
       "      <td>15.0</td>\n",
       "      <td>...</td>\n",
       "      <td>0.6</td>\n",
       "      <td>2-3 Times a Week Brushing</td>\n",
       "      <td>0.6</td>\n",
       "      <td>Seasonal</td>\n",
       "      <td>0.6</td>\n",
       "      <td>Regular Exercise</td>\n",
       "      <td>0.8</td>\n",
       "      <td>Easy Training</td>\n",
       "      <td>1.0</td>\n",
       "      <td>Outgoing</td>\n",
       "    </tr>\n",
       "    <tr>\n",
       "      <th>1</th>\n",
       "      <td>Afghan Hound</td>\n",
       "      <td>The Afghan Hound is an ancient breed, his whol...</td>\n",
       "      <td>Dignified, Profoundly Loyal, Aristocratic</td>\n",
       "      <td>113</td>\n",
       "      <td>63.50</td>\n",
       "      <td>68.58</td>\n",
       "      <td>22.679619</td>\n",
       "      <td>27.215542</td>\n",
       "      <td>12.0</td>\n",
       "      <td>15.0</td>\n",
       "      <td>...</td>\n",
       "      <td>0.8</td>\n",
       "      <td>Daily Brushing</td>\n",
       "      <td>0.2</td>\n",
       "      <td>Infrequent</td>\n",
       "      <td>0.8</td>\n",
       "      <td>Energetic</td>\n",
       "      <td>0.2</td>\n",
       "      <td>May be Stubborn</td>\n",
       "      <td>0.2</td>\n",
       "      <td>Aloof/Wary</td>\n",
       "    </tr>\n",
       "    <tr>\n",
       "      <th>2</th>\n",
       "      <td>Airedale Terrier</td>\n",
       "      <td>The Airedale Terrier is the largest of all ter...</td>\n",
       "      <td>Friendly, Clever, Courageous</td>\n",
       "      <td>60</td>\n",
       "      <td>58.42</td>\n",
       "      <td>58.42</td>\n",
       "      <td>22.679619</td>\n",
       "      <td>31.751466</td>\n",
       "      <td>11.0</td>\n",
       "      <td>14.0</td>\n",
       "      <td>...</td>\n",
       "      <td>0.6</td>\n",
       "      <td>2-3 Times a Week Brushing</td>\n",
       "      <td>0.4</td>\n",
       "      <td>Occasional</td>\n",
       "      <td>0.6</td>\n",
       "      <td>Regular Exercise</td>\n",
       "      <td>1.0</td>\n",
       "      <td>Eager to Please</td>\n",
       "      <td>0.8</td>\n",
       "      <td>Friendly</td>\n",
       "    </tr>\n",
       "    <tr>\n",
       "      <th>3</th>\n",
       "      <td>Akita</td>\n",
       "      <td>Akitas are burly, heavy-boned spitz-type dogs ...</td>\n",
       "      <td>Courageous, Dignified, Profoundly Loyal</td>\n",
       "      <td>47</td>\n",
       "      <td>60.96</td>\n",
       "      <td>71.12</td>\n",
       "      <td>31.751466</td>\n",
       "      <td>58.967008</td>\n",
       "      <td>10.0</td>\n",
       "      <td>13.0</td>\n",
       "      <td>...</td>\n",
       "      <td>0.8</td>\n",
       "      <td>Daily Brushing</td>\n",
       "      <td>0.6</td>\n",
       "      <td>Seasonal</td>\n",
       "      <td>0.8</td>\n",
       "      <td>Energetic</td>\n",
       "      <td>1.0</td>\n",
       "      <td>Eager to Please</td>\n",
       "      <td>0.6</td>\n",
       "      <td>Alert/Responsive</td>\n",
       "    </tr>\n",
       "    <tr>\n",
       "      <th>4</th>\n",
       "      <td>Alaskan Malamute</td>\n",
       "      <td>The Alaskan Malamute stands 23 to 25 inches at...</td>\n",
       "      <td>Affectionate, Loyal, Playful</td>\n",
       "      <td>58</td>\n",
       "      <td>58.42</td>\n",
       "      <td>63.50</td>\n",
       "      <td>34.019428</td>\n",
       "      <td>38.555351</td>\n",
       "      <td>10.0</td>\n",
       "      <td>14.0</td>\n",
       "      <td>...</td>\n",
       "      <td>0.6</td>\n",
       "      <td>2-3 Times a Week Brushing</td>\n",
       "      <td>0.6</td>\n",
       "      <td>Seasonal</td>\n",
       "      <td>0.8</td>\n",
       "      <td>Energetic</td>\n",
       "      <td>0.4</td>\n",
       "      <td>Independent</td>\n",
       "      <td>0.8</td>\n",
       "      <td>Friendly</td>\n",
       "    </tr>\n",
       "  </tbody>\n",
       "</table>\n",
       "<p>5 rows × 21 columns</p>\n",
       "</div>"
      ],
      "text/plain": [
       "              Breed                                        Description  \\\n",
       "0     Affenpinscher  The Affenâs apish look has been described ma...   \n",
       "1      Afghan Hound  The Afghan Hound is an ancient breed, his whol...   \n",
       "2  Airedale Terrier  The Airedale Terrier is the largest of all ter...   \n",
       "3             Akita  Akitas are burly, heavy-boned spitz-type dogs ...   \n",
       "4  Alaskan Malamute  The Alaskan Malamute stands 23 to 25 inches at...   \n",
       "\n",
       "                                 Temperament Ranking  Height (min)  \\\n",
       "0        Confident, Famously Funny, Fearless     148         22.86   \n",
       "1  Dignified, Profoundly Loyal, Aristocratic     113         63.50   \n",
       "2               Friendly, Clever, Courageous      60         58.42   \n",
       "3    Courageous, Dignified, Profoundly Loyal      47         60.96   \n",
       "4               Affectionate, Loyal, Playful      58         58.42   \n",
       "\n",
       "   Height (max)  Weight (min)  Weight (max)  Lifespan (min)  Lifespan (max)  \\\n",
       "0         29.21      3.175147      4.535924            12.0            15.0   \n",
       "1         68.58     22.679619     27.215542            12.0            15.0   \n",
       "2         58.42     22.679619     31.751466            11.0            14.0   \n",
       "3         71.12     31.751466     58.967008            10.0            13.0   \n",
       "4         63.50     34.019428     38.555351            10.0            14.0   \n",
       "\n",
       "   ... Grooming Frequency (value)  Grooming Frequency (group)  \\\n",
       "0  ...                        0.6   2-3 Times a Week Brushing   \n",
       "1  ...                        0.8              Daily Brushing   \n",
       "2  ...                        0.6   2-3 Times a Week Brushing   \n",
       "3  ...                        0.8              Daily Brushing   \n",
       "4  ...                        0.6   2-3 Times a Week Brushing   \n",
       "\n",
       "  Shedding (value)  Shedding (group) Energy Level (value)  \\\n",
       "0              0.6          Seasonal                  0.6   \n",
       "1              0.2        Infrequent                  0.8   \n",
       "2              0.4        Occasional                  0.6   \n",
       "3              0.6          Seasonal                  0.8   \n",
       "4              0.6          Seasonal                  0.8   \n",
       "\n",
       "   Energy Level (group) Trainability (value)  Trainability (group)  \\\n",
       "0      Regular Exercise                  0.8         Easy Training   \n",
       "1             Energetic                  0.2       May be Stubborn   \n",
       "2      Regular Exercise                  1.0       Eager to Please   \n",
       "3             Energetic                  1.0       Eager to Please   \n",
       "4             Energetic                  0.4           Independent   \n",
       "\n",
       "  Demeanor (value)  Demeanor (group)  \n",
       "0              1.0          Outgoing  \n",
       "1              0.2        Aloof/Wary  \n",
       "2              0.8          Friendly  \n",
       "3              0.6  Alert/Responsive  \n",
       "4              0.8          Friendly  \n",
       "\n",
       "[5 rows x 21 columns]"
      ]
     },
     "execution_count": 2,
     "metadata": {},
     "output_type": "execute_result"
    }
   ],
   "source": [
    "# Load the data into a Pandas DataFrame\n",
    "full_df = pd.read_csv(\"akc-data-latest.csv\",encoding='latin1')\n",
    "\n",
    "# Rename columns\n",
    "full_df.rename(columns={\"Unnamed: 0\": \"Breed\",\n",
    "                              \"description\" : \"Description\",\n",
    "                              \"temperament\": \"Temperament\",\n",
    "                              \"popularity\": \"Ranking\",\n",
    "                              \"min_height\":\"Height (min)\",\n",
    "                              \"max_height\":\"Height (max)\",\n",
    "                              \"min_weight\":\"Weight (min)\",\n",
    "                              \"max_weight\":\"Weight (max)\", \n",
    "                              \"min_expectancy\":\"Lifespan (min)\", \n",
    "                              \"max_expectancy\":\"Lifespan (max)\", \n",
    "                              \"group\": \"Breed Group\", \n",
    "                              \"grooming_frequency_value\": \"Grooming Frequency (value)\", \n",
    "                              \"grooming_frequency_category\": \"Grooming Frequency (group)\",\n",
    "                              \"shedding_value\": \"Shedding (value)\",\n",
    "                              \"shedding_category\": \"Shedding (group)\",\n",
    "                              \"energy_level_value\" : \"Energy Level (value)\",\n",
    "                              \"energy_level_category\" : \"Energy Level (group)\",\n",
    "                              \"trainability_value\" : \"Trainability (value)\",\n",
    "                              \"trainability_category\" : \"Trainability (group)\",\n",
    "                              \"demeanor_value\" : \"Demeanor (value)\",\n",
    "                              \"demeanor_category\" : \"Demeanor (group)\"}, inplace=True)\n",
    "\n",
    "#sorting\n",
    "full_df=full_df.sort_values(\"Breed\",ascending=True, inplace=False)\n",
    "full_df=full_df.reset_index(drop=True)\n",
    "\n",
    "#print\n",
    "full_df.head()"
   ]
  },
  {
   "cell_type": "code",
   "execution_count": 3,
   "id": "c964cd04",
   "metadata": {},
   "outputs": [
    {
     "data": {
      "text/html": [
       "<div>\n",
       "<style scoped>\n",
       "    .dataframe tbody tr th:only-of-type {\n",
       "        vertical-align: middle;\n",
       "    }\n",
       "\n",
       "    .dataframe tbody tr th {\n",
       "        vertical-align: top;\n",
       "    }\n",
       "\n",
       "    .dataframe thead th {\n",
       "        text-align: right;\n",
       "    }\n",
       "</style>\n",
       "<table border=\"1\" class=\"dataframe\">\n",
       "  <thead>\n",
       "    <tr style=\"text-align: right;\">\n",
       "      <th></th>\n",
       "      <th>Breed</th>\n",
       "      <th>Ranking</th>\n",
       "      <th>Height (min)</th>\n",
       "      <th>Height (max)</th>\n",
       "      <th>Weight (min)</th>\n",
       "      <th>Weight (max)</th>\n",
       "      <th>Lifespan (min)</th>\n",
       "      <th>Lifespan (max)</th>\n",
       "      <th>Breed Group</th>\n",
       "      <th>Grooming Frequency (value)</th>\n",
       "      <th>Shedding (value)</th>\n",
       "      <th>Energy Level (value)</th>\n",
       "      <th>Trainability (value)</th>\n",
       "      <th>Demeanor (value)</th>\n",
       "    </tr>\n",
       "  </thead>\n",
       "  <tbody>\n",
       "    <tr>\n",
       "      <th>0</th>\n",
       "      <td>Affenpinscher</td>\n",
       "      <td>148</td>\n",
       "      <td>22.86</td>\n",
       "      <td>29.21</td>\n",
       "      <td>3.175147</td>\n",
       "      <td>4.535924</td>\n",
       "      <td>12.0</td>\n",
       "      <td>15.0</td>\n",
       "      <td>Toy Group</td>\n",
       "      <td>0.6</td>\n",
       "      <td>0.6</td>\n",
       "      <td>0.6</td>\n",
       "      <td>0.8</td>\n",
       "      <td>1.0</td>\n",
       "    </tr>\n",
       "    <tr>\n",
       "      <th>1</th>\n",
       "      <td>Afghan Hound</td>\n",
       "      <td>113</td>\n",
       "      <td>63.50</td>\n",
       "      <td>68.58</td>\n",
       "      <td>22.679619</td>\n",
       "      <td>27.215542</td>\n",
       "      <td>12.0</td>\n",
       "      <td>15.0</td>\n",
       "      <td>Hound Group</td>\n",
       "      <td>0.8</td>\n",
       "      <td>0.2</td>\n",
       "      <td>0.8</td>\n",
       "      <td>0.2</td>\n",
       "      <td>0.2</td>\n",
       "    </tr>\n",
       "    <tr>\n",
       "      <th>2</th>\n",
       "      <td>Airedale Terrier</td>\n",
       "      <td>60</td>\n",
       "      <td>58.42</td>\n",
       "      <td>58.42</td>\n",
       "      <td>22.679619</td>\n",
       "      <td>31.751466</td>\n",
       "      <td>11.0</td>\n",
       "      <td>14.0</td>\n",
       "      <td>Terrier Group</td>\n",
       "      <td>0.6</td>\n",
       "      <td>0.4</td>\n",
       "      <td>0.6</td>\n",
       "      <td>1.0</td>\n",
       "      <td>0.8</td>\n",
       "    </tr>\n",
       "    <tr>\n",
       "      <th>3</th>\n",
       "      <td>Akita</td>\n",
       "      <td>47</td>\n",
       "      <td>60.96</td>\n",
       "      <td>71.12</td>\n",
       "      <td>31.751466</td>\n",
       "      <td>58.967008</td>\n",
       "      <td>10.0</td>\n",
       "      <td>13.0</td>\n",
       "      <td>Working Group</td>\n",
       "      <td>0.8</td>\n",
       "      <td>0.6</td>\n",
       "      <td>0.8</td>\n",
       "      <td>1.0</td>\n",
       "      <td>0.6</td>\n",
       "    </tr>\n",
       "    <tr>\n",
       "      <th>4</th>\n",
       "      <td>Alaskan Malamute</td>\n",
       "      <td>58</td>\n",
       "      <td>58.42</td>\n",
       "      <td>63.50</td>\n",
       "      <td>34.019428</td>\n",
       "      <td>38.555351</td>\n",
       "      <td>10.0</td>\n",
       "      <td>14.0</td>\n",
       "      <td>Working Group</td>\n",
       "      <td>0.6</td>\n",
       "      <td>0.6</td>\n",
       "      <td>0.8</td>\n",
       "      <td>0.4</td>\n",
       "      <td>0.8</td>\n",
       "    </tr>\n",
       "  </tbody>\n",
       "</table>\n",
       "</div>"
      ],
      "text/plain": [
       "              Breed Ranking  Height (min)  Height (max)  Weight (min)  \\\n",
       "0     Affenpinscher     148         22.86         29.21      3.175147   \n",
       "1      Afghan Hound     113         63.50         68.58     22.679619   \n",
       "2  Airedale Terrier      60         58.42         58.42     22.679619   \n",
       "3             Akita      47         60.96         71.12     31.751466   \n",
       "4  Alaskan Malamute      58         58.42         63.50     34.019428   \n",
       "\n",
       "   Weight (max)  Lifespan (min)  Lifespan (max)    Breed Group  \\\n",
       "0      4.535924            12.0            15.0      Toy Group   \n",
       "1     27.215542            12.0            15.0    Hound Group   \n",
       "2     31.751466            11.0            14.0  Terrier Group   \n",
       "3     58.967008            10.0            13.0  Working Group   \n",
       "4     38.555351            10.0            14.0  Working Group   \n",
       "\n",
       "   Grooming Frequency (value)  Shedding (value)  Energy Level (value)  \\\n",
       "0                         0.6               0.6                   0.6   \n",
       "1                         0.8               0.2                   0.8   \n",
       "2                         0.6               0.4                   0.6   \n",
       "3                         0.8               0.6                   0.8   \n",
       "4                         0.6               0.6                   0.8   \n",
       "\n",
       "   Trainability (value)  Demeanor (value)  \n",
       "0                   0.8               1.0  \n",
       "1                   0.2               0.2  \n",
       "2                   1.0               0.8  \n",
       "3                   1.0               0.6  \n",
       "4                   0.4               0.8  "
      ]
     },
     "execution_count": 3,
     "metadata": {},
     "output_type": "execute_result"
    }
   ],
   "source": [
    "#copy df\n",
    "full_numberic_df = full_df.copy()\n",
    "full_numberic_df = full_numberic_df.drop(columns=['Description',\n",
    "                                                  'Temperament',\n",
    "                                                  'Grooming Frequency (group)',\n",
    "                                                  'Shedding (group)',\n",
    "                                                  'Energy Level (group)',\n",
    "                                                  'Trainability (group)',\n",
    "                                                  'Demeanor (group)'])\n",
    "#astype changes\n",
    "full_numberic_df[\"Height (min)\"] = full_numberic_df[\"Height (min)\"].astype(\"float64\")\n",
    "full_numberic_df[\"Height (max)\"] = full_numberic_df[\"Height (max)\"].astype(\"float64\")\n",
    "full_numberic_df[\"Weight (min)\"] = full_numberic_df[\"Weight (min)\"].astype(\"float64\")\n",
    "full_numberic_df[\"Weight (max)\"] = full_numberic_df[\"Weight (max)\"].astype(\"float64\")\n",
    "full_numberic_df[\"Lifespan (min)\"] = full_numberic_df[\"Lifespan (min)\"].astype(\"float64\")\n",
    "full_numberic_df[\"Lifespan (max)\"] = full_numberic_df[\"Lifespan (max)\"].astype(\"float64\")\n",
    "full_numberic_df[\"Grooming Frequency (value)\"] = full_numberic_df[\"Grooming Frequency (value)\"].astype(\"float64\")\n",
    "full_numberic_df[\"Shedding (value)\"] = full_numberic_df[\"Shedding (value)\"].astype(\"float64\")\n",
    "full_numberic_df[\"Energy Level (value)\"] = full_numberic_df[\"Energy Level (value)\"].astype(\"float64\")\n",
    "full_numberic_df[\"Trainability (value)\"] = full_numberic_df[\"Trainability (value)\"].astype(\"float64\")\n",
    "full_numberic_df[\"Demeanor (value)\"] = full_numberic_df[\"Demeanor (value)\"].astype(\"float64\")\n",
    "\n",
    "#print\n",
    "full_numberic_df.head()"
   ]
  },
  {
   "cell_type": "code",
   "execution_count": 4,
   "id": "8cd66045",
   "metadata": {},
   "outputs": [
    {
     "data": {
      "text/html": [
       "<div>\n",
       "<style scoped>\n",
       "    .dataframe tbody tr th:only-of-type {\n",
       "        vertical-align: middle;\n",
       "    }\n",
       "\n",
       "    .dataframe tbody tr th {\n",
       "        vertical-align: top;\n",
       "    }\n",
       "\n",
       "    .dataframe thead th {\n",
       "        text-align: right;\n",
       "    }\n",
       "</style>\n",
       "<table border=\"1\" class=\"dataframe\">\n",
       "  <thead>\n",
       "    <tr style=\"text-align: right;\">\n",
       "      <th></th>\n",
       "      <th>Breed</th>\n",
       "      <th>Height (avg)</th>\n",
       "      <th>Weight (avg)</th>\n",
       "      <th>Lifespan (avg)</th>\n",
       "    </tr>\n",
       "  </thead>\n",
       "  <tbody>\n",
       "    <tr>\n",
       "      <th>0</th>\n",
       "      <td>Affenpinscher</td>\n",
       "      <td>26.035</td>\n",
       "      <td>3.855535</td>\n",
       "      <td>13.5</td>\n",
       "    </tr>\n",
       "    <tr>\n",
       "      <th>1</th>\n",
       "      <td>Afghan Hound</td>\n",
       "      <td>66.040</td>\n",
       "      <td>24.947580</td>\n",
       "      <td>13.5</td>\n",
       "    </tr>\n",
       "    <tr>\n",
       "      <th>2</th>\n",
       "      <td>Airedale Terrier</td>\n",
       "      <td>58.420</td>\n",
       "      <td>27.215542</td>\n",
       "      <td>12.5</td>\n",
       "    </tr>\n",
       "    <tr>\n",
       "      <th>3</th>\n",
       "      <td>Akita</td>\n",
       "      <td>66.040</td>\n",
       "      <td>45.359237</td>\n",
       "      <td>11.5</td>\n",
       "    </tr>\n",
       "    <tr>\n",
       "      <th>4</th>\n",
       "      <td>Alaskan Malamute</td>\n",
       "      <td>60.960</td>\n",
       "      <td>36.287390</td>\n",
       "      <td>12.0</td>\n",
       "    </tr>\n",
       "  </tbody>\n",
       "</table>\n",
       "</div>"
      ],
      "text/plain": [
       "              Breed  Height (avg)  Weight (avg)  Lifespan (avg)\n",
       "0     Affenpinscher        26.035      3.855535            13.5\n",
       "1      Afghan Hound        66.040     24.947580            13.5\n",
       "2  Airedale Terrier        58.420     27.215542            12.5\n",
       "3             Akita        66.040     45.359237            11.5\n",
       "4  Alaskan Malamute        60.960     36.287390            12.0"
      ]
     },
     "execution_count": 4,
     "metadata": {},
     "output_type": "execute_result"
    }
   ],
   "source": [
    "copy_numberic_df = full_numberic_df.copy()\n",
    "copy_numberic_df = copy_numberic_df.drop(columns=['Ranking',\n",
    "                                                  'Breed Group',\n",
    "                                                  'Grooming Frequency (value)',\n",
    "                                                  'Shedding (value)',\n",
    "                                                  'Energy Level (value)',\n",
    "                                                  'Trainability (value)',\n",
    "                                                  'Demeanor (value)'])\n",
    "\n",
    "#dropping rows if missing values\n",
    "copy_numberic_df= copy_numberic_df.dropna(axis=0,how=\"any\")\n",
    "\n",
    "#adding new columns for average values\n",
    "copy_numberic_df[\"Height (avg)\"] = copy_numberic_df[[\"Height (min)\",\"Height (max)\"]].mean(axis=1)\n",
    "copy_numberic_df[\"Weight (avg)\"] = copy_numberic_df[[\"Weight (min)\",\"Weight (max)\"]].mean(axis=1)\n",
    "copy_numberic_df[\"Lifespan (avg)\"] = copy_numberic_df[[\"Lifespan (min)\",\"Lifespan (max)\"]].mean(axis=1)\n",
    "\n",
    "#dropping more columns\n",
    "copy_numberic_df = copy_numberic_df.drop(columns=['Height (min)',\n",
    "                                                  'Height (max)',\n",
    "                                                  'Weight (min)',\n",
    "                                                  'Weight (max)',\n",
    "                                                  'Height (min)',\n",
    "                                                  'Lifespan (min)',\n",
    "                                                  'Lifespan (max)'])\n",
    "\n",
    "#print\n",
    "copy_numberic_df.head()"
   ]
  },
  {
   "cell_type": "code",
   "execution_count": 5,
   "id": "690ab693",
   "metadata": {},
   "outputs": [
    {
     "data": {
      "text/html": [
       "<div>\n",
       "<style scoped>\n",
       "    .dataframe tbody tr th:only-of-type {\n",
       "        vertical-align: middle;\n",
       "    }\n",
       "\n",
       "    .dataframe tbody tr th {\n",
       "        vertical-align: top;\n",
       "    }\n",
       "\n",
       "    .dataframe thead th {\n",
       "        text-align: right;\n",
       "    }\n",
       "</style>\n",
       "<table border=\"1\" class=\"dataframe\">\n",
       "  <thead>\n",
       "    <tr style=\"text-align: right;\">\n",
       "      <th></th>\n",
       "      <th>Breed</th>\n",
       "      <th>Breed Group</th>\n",
       "      <th>Ranking</th>\n",
       "      <th>Height (avg)</th>\n",
       "      <th>Weight (avg)</th>\n",
       "      <th>Lifespan (avg)</th>\n",
       "      <th>Grooming Frequency (value)</th>\n",
       "      <th>Shedding (value)</th>\n",
       "      <th>Energy Level (value)</th>\n",
       "      <th>Trainability (value)</th>\n",
       "      <th>Demeanor (value)</th>\n",
       "    </tr>\n",
       "  </thead>\n",
       "  <tbody>\n",
       "    <tr>\n",
       "      <th>0</th>\n",
       "      <td>Affenpinscher</td>\n",
       "      <td>Toy Group</td>\n",
       "      <td>148</td>\n",
       "      <td>26.035</td>\n",
       "      <td>3.855535</td>\n",
       "      <td>13.5</td>\n",
       "      <td>0.6</td>\n",
       "      <td>0.6</td>\n",
       "      <td>0.6</td>\n",
       "      <td>0.8</td>\n",
       "      <td>1.0</td>\n",
       "    </tr>\n",
       "    <tr>\n",
       "      <th>1</th>\n",
       "      <td>Afghan Hound</td>\n",
       "      <td>Hound Group</td>\n",
       "      <td>113</td>\n",
       "      <td>66.040</td>\n",
       "      <td>24.947580</td>\n",
       "      <td>13.5</td>\n",
       "      <td>0.8</td>\n",
       "      <td>0.2</td>\n",
       "      <td>0.8</td>\n",
       "      <td>0.2</td>\n",
       "      <td>0.2</td>\n",
       "    </tr>\n",
       "    <tr>\n",
       "      <th>2</th>\n",
       "      <td>Airedale Terrier</td>\n",
       "      <td>Terrier Group</td>\n",
       "      <td>60</td>\n",
       "      <td>58.420</td>\n",
       "      <td>27.215542</td>\n",
       "      <td>12.5</td>\n",
       "      <td>0.6</td>\n",
       "      <td>0.4</td>\n",
       "      <td>0.6</td>\n",
       "      <td>1.0</td>\n",
       "      <td>0.8</td>\n",
       "    </tr>\n",
       "    <tr>\n",
       "      <th>3</th>\n",
       "      <td>Akita</td>\n",
       "      <td>Working Group</td>\n",
       "      <td>47</td>\n",
       "      <td>66.040</td>\n",
       "      <td>45.359237</td>\n",
       "      <td>11.5</td>\n",
       "      <td>0.8</td>\n",
       "      <td>0.6</td>\n",
       "      <td>0.8</td>\n",
       "      <td>1.0</td>\n",
       "      <td>0.6</td>\n",
       "    </tr>\n",
       "    <tr>\n",
       "      <th>4</th>\n",
       "      <td>Alaskan Malamute</td>\n",
       "      <td>Working Group</td>\n",
       "      <td>58</td>\n",
       "      <td>60.960</td>\n",
       "      <td>36.287390</td>\n",
       "      <td>12.0</td>\n",
       "      <td>0.6</td>\n",
       "      <td>0.6</td>\n",
       "      <td>0.8</td>\n",
       "      <td>0.4</td>\n",
       "      <td>0.8</td>\n",
       "    </tr>\n",
       "    <tr>\n",
       "      <th>...</th>\n",
       "      <td>...</td>\n",
       "      <td>...</td>\n",
       "      <td>...</td>\n",
       "      <td>...</td>\n",
       "      <td>...</td>\n",
       "      <td>...</td>\n",
       "      <td>...</td>\n",
       "      <td>...</td>\n",
       "      <td>...</td>\n",
       "      <td>...</td>\n",
       "      <td>...</td>\n",
       "    </tr>\n",
       "    <tr>\n",
       "      <th>272</th>\n",
       "      <td>Wirehaired Vizsla</td>\n",
       "      <td>Sporting Group</td>\n",
       "      <td>167</td>\n",
       "      <td>59.055</td>\n",
       "      <td>24.947580</td>\n",
       "      <td>13.0</td>\n",
       "      <td>0.2</td>\n",
       "      <td>0.6</td>\n",
       "      <td>0.8</td>\n",
       "      <td>0.6</td>\n",
       "      <td>0.6</td>\n",
       "    </tr>\n",
       "    <tr>\n",
       "      <th>273</th>\n",
       "      <td>Working Kelpie</td>\n",
       "      <td>Foundation Stock Service</td>\n",
       "      <td>NaN</td>\n",
       "      <td>55.880</td>\n",
       "      <td>19.958064</td>\n",
       "      <td>13.5</td>\n",
       "      <td>0.2</td>\n",
       "      <td>0.6</td>\n",
       "      <td>0.8</td>\n",
       "      <td>0.4</td>\n",
       "      <td>0.6</td>\n",
       "    </tr>\n",
       "    <tr>\n",
       "      <th>274</th>\n",
       "      <td>Xoloitzcuintli</td>\n",
       "      <td>Non-Sporting Group</td>\n",
       "      <td>140</td>\n",
       "      <td>41.910</td>\n",
       "      <td>14.741752</td>\n",
       "      <td>15.5</td>\n",
       "      <td>0.2</td>\n",
       "      <td>0.2</td>\n",
       "      <td>0.8</td>\n",
       "      <td>0.6</td>\n",
       "      <td>0.6</td>\n",
       "    </tr>\n",
       "    <tr>\n",
       "      <th>275</th>\n",
       "      <td>Yakutian Laika</td>\n",
       "      <td>Foundation Stock Service</td>\n",
       "      <td>NaN</td>\n",
       "      <td>55.880</td>\n",
       "      <td>21.545638</td>\n",
       "      <td>11.0</td>\n",
       "      <td>0.4</td>\n",
       "      <td>0.6</td>\n",
       "      <td>0.8</td>\n",
       "      <td>0.2</td>\n",
       "      <td>0.4</td>\n",
       "    </tr>\n",
       "    <tr>\n",
       "      <th>276</th>\n",
       "      <td>Yorkshire Terrier</td>\n",
       "      <td>Toy Group</td>\n",
       "      <td>10</td>\n",
       "      <td>19.050</td>\n",
       "      <td>3.175147</td>\n",
       "      <td>13.0</td>\n",
       "      <td>1.0</td>\n",
       "      <td>0.2</td>\n",
       "      <td>0.6</td>\n",
       "      <td>0.2</td>\n",
       "      <td>0.8</td>\n",
       "    </tr>\n",
       "  </tbody>\n",
       "</table>\n",
       "<p>277 rows × 11 columns</p>\n",
       "</div>"
      ],
      "text/plain": [
       "                 Breed               Breed Group Ranking  Height (avg)  \\\n",
       "0        Affenpinscher                 Toy Group     148        26.035   \n",
       "1         Afghan Hound               Hound Group     113        66.040   \n",
       "2     Airedale Terrier             Terrier Group      60        58.420   \n",
       "3                Akita             Working Group      47        66.040   \n",
       "4     Alaskan Malamute             Working Group      58        60.960   \n",
       "..                 ...                       ...     ...           ...   \n",
       "272  Wirehaired Vizsla            Sporting Group     167        59.055   \n",
       "273     Working Kelpie  Foundation Stock Service     NaN        55.880   \n",
       "274     Xoloitzcuintli        Non-Sporting Group     140        41.910   \n",
       "275     Yakutian Laika  Foundation Stock Service     NaN        55.880   \n",
       "276  Yorkshire Terrier                 Toy Group      10        19.050   \n",
       "\n",
       "     Weight (avg)  Lifespan (avg)  Grooming Frequency (value)  \\\n",
       "0        3.855535            13.5                         0.6   \n",
       "1       24.947580            13.5                         0.8   \n",
       "2       27.215542            12.5                         0.6   \n",
       "3       45.359237            11.5                         0.8   \n",
       "4       36.287390            12.0                         0.6   \n",
       "..            ...             ...                         ...   \n",
       "272     24.947580            13.0                         0.2   \n",
       "273     19.958064            13.5                         0.2   \n",
       "274     14.741752            15.5                         0.2   \n",
       "275     21.545638            11.0                         0.4   \n",
       "276      3.175147            13.0                         1.0   \n",
       "\n",
       "     Shedding (value)  Energy Level (value)  Trainability (value)  \\\n",
       "0                 0.6                   0.6                   0.8   \n",
       "1                 0.2                   0.8                   0.2   \n",
       "2                 0.4                   0.6                   1.0   \n",
       "3                 0.6                   0.8                   1.0   \n",
       "4                 0.6                   0.8                   0.4   \n",
       "..                ...                   ...                   ...   \n",
       "272               0.6                   0.8                   0.6   \n",
       "273               0.6                   0.8                   0.4   \n",
       "274               0.2                   0.8                   0.6   \n",
       "275               0.6                   0.8                   0.2   \n",
       "276               0.2                   0.6                   0.2   \n",
       "\n",
       "     Demeanor (value)  \n",
       "0                 1.0  \n",
       "1                 0.2  \n",
       "2                 0.8  \n",
       "3                 0.6  \n",
       "4                 0.8  \n",
       "..                ...  \n",
       "272               0.6  \n",
       "273               0.6  \n",
       "274               0.6  \n",
       "275               0.4  \n",
       "276               0.8  \n",
       "\n",
       "[277 rows x 11 columns]"
      ]
     },
     "execution_count": 5,
     "metadata": {},
     "output_type": "execute_result"
    }
   ],
   "source": [
    "#merging\n",
    "final_df = pd.merge(full_numberic_df, copy_numberic_df, how=\"left\", on=[\"Breed\", \"Breed\"])\n",
    "\n",
    "# reorder + cleaning\n",
    "final_df = pd.DataFrame({\"Breed\":final_df[\"Breed\"],\n",
    "                         \"Breed Group\":final_df[\"Breed Group\"],\n",
    "                         \"Ranking\":final_df[\"Ranking\"],\n",
    "                         \"Height (avg)\":final_df[\"Height (avg)\"],\n",
    "                         \"Weight (avg)\":final_df[\"Weight (avg)\"],\n",
    "                         \"Lifespan (avg)\":final_df[\"Lifespan (avg)\"],\n",
    "                         \"Grooming Frequency (value)\":final_df[\"Grooming Frequency (value)\"],\n",
    "                         \"Shedding (value)\":final_df[\"Shedding (value)\"],\n",
    "                         \"Energy Level (value)\":final_df[\"Energy Level (value)\"],\n",
    "                         \"Trainability (value)\":final_df[\"Trainability (value)\"],\n",
    "                         \"Demeanor (value)\":final_df[\"Demeanor (value)\"]})\n",
    "\n",
    "#sorting\n",
    "final_df=final_df.sort_values(\"Breed\",ascending=True, inplace=False)\n",
    "final_df=final_df.reset_index(drop=True)\n",
    "\n",
    "#print\n",
    "final_df"
   ]
  },
  {
   "cell_type": "code",
   "execution_count": 6,
   "id": "3c88ece0",
   "metadata": {},
   "outputs": [
    {
     "data": {
      "image/png": "[encoded data removed]",
      "text/plain": [
       "<Figure size 640x480 with 1 Axes>"
      ]
     },
     "metadata": {},
     "output_type": "display_data"
    }
   ],
   "source": [
    "# Copy for graphing\n",
    "graph_1_df = final_df[[\"Breed\", \"Height (avg)\", \"Weight (avg)\"]]\n",
    "\n",
    "# Select the columns for the bubble chart\n",
    "x = graph_1_df['Height (avg)']\n",
    "y = graph_1_df['Weight (avg)']\n",
    "# size = graph_1_df['Ranking']  # If this is not used, you can remove/comment it out\n",
    "\n",
    "# Create the scatter plot\n",
    "fig, ax = plt.subplots()\n",
    "scatter = ax.scatter(x, y, alpha=0.5)\n",
    "\n",
    "# Customize the plot\n",
    "ax.set_xlabel('Height (avg)')\n",
    "ax.set_ylabel('Weight (avg)')\n",
    "ax.set_title('Height vs Weight')\n",
    "\n",
    "# Create a function to display hover text using mplcursors\n",
    "def on_hover(event):\n",
    "    breed = graph_1_df['Breed'][event.ind]\n",
    "    label = f\"Breed: {breed}\"\n",
    "    mplcursors.cursor(hover=True).connect(\"add\", lambda sel: sel.annotation.set_text(label))\n",
    "\n",
    "# Connect the hover function to the scatter plot\n",
    "scatter.hover = on_hover\n",
    "\n",
    "# Show the plot\n",
    "plt.show()"
   ]
  },
  {
   "cell_type": "code",
   "execution_count": 7,
   "id": "ca1e05be",
   "metadata": {},
   "outputs": [
    {
     "data": {
      "text/html": [
       "<div>\n",
       "<style scoped>\n",
       "    .dataframe tbody tr th:only-of-type {\n",
       "        vertical-align: middle;\n",
       "    }\n",
       "\n",
       "    .dataframe tbody tr th {\n",
       "        vertical-align: top;\n",
       "    }\n",
       "\n",
       "    .dataframe thead th {\n",
       "        text-align: right;\n",
       "    }\n",
       "</style>\n",
       "<table border=\"1\" class=\"dataframe\">\n",
       "  <thead>\n",
       "    <tr style=\"text-align: right;\">\n",
       "      <th></th>\n",
       "      <th>Titles</th>\n",
       "      <th>All Row averages</th>\n",
       "      <th>Foundation Stock Service</th>\n",
       "      <th>Herding Group</th>\n",
       "      <th>Hound Group</th>\n",
       "      <th>Miscellaneous Class</th>\n",
       "      <th>Non-Sporting Group</th>\n",
       "      <th>Sporting Group</th>\n",
       "      <th>Terrier Group</th>\n",
       "      <th>Toy Group</th>\n",
       "      <th>Working Group</th>\n",
       "    </tr>\n",
       "  </thead>\n",
       "  <tbody>\n",
       "    <tr>\n",
       "      <th>0</th>\n",
       "      <td>Ranking</td>\n",
       "      <td>95.784615</td>\n",
       "      <td>NaN</td>\n",
       "      <td>107.733333</td>\n",
       "      <td>126.806452</td>\n",
       "      <td>NaN</td>\n",
       "      <td>81.000000</td>\n",
       "      <td>90.967742</td>\n",
       "      <td>109.483871</td>\n",
       "      <td>67.095238</td>\n",
       "      <td>73.033333</td>\n",
       "    </tr>\n",
       "    <tr>\n",
       "      <th>1</th>\n",
       "      <td>Height (avg)</td>\n",
       "      <td>48.347546</td>\n",
       "      <td>52.655391</td>\n",
       "      <td>49.879250</td>\n",
       "      <td>56.078437</td>\n",
       "      <td>42.891364</td>\n",
       "      <td>36.678810</td>\n",
       "      <td>53.155645</td>\n",
       "      <td>35.150323</td>\n",
       "      <td>24.765000</td>\n",
       "      <td>64.196452</td>\n",
       "    </tr>\n",
       "    <tr>\n",
       "      <th>2</th>\n",
       "      <td>Weight (avg)</td>\n",
       "      <td>22.524113</td>\n",
       "      <td>27.153528</td>\n",
       "      <td>22.150427</td>\n",
       "      <td>25.252338</td>\n",
       "      <td>14.999475</td>\n",
       "      <td>12.830184</td>\n",
       "      <td>23.308795</td>\n",
       "      <td>11.010589</td>\n",
       "      <td>4.314527</td>\n",
       "      <td>42.813267</td>\n",
       "    </tr>\n",
       "    <tr>\n",
       "      <th>3</th>\n",
       "      <td>Lifespan (avg)</td>\n",
       "      <td>12.579044</td>\n",
       "      <td>12.546875</td>\n",
       "      <td>12.316667</td>\n",
       "      <td>12.296875</td>\n",
       "      <td>13.227273</td>\n",
       "      <td>13.285714</td>\n",
       "      <td>12.596774</td>\n",
       "      <td>13.483871</td>\n",
       "      <td>13.857143</td>\n",
       "      <td>10.693548</td>\n",
       "    </tr>\n",
       "    <tr>\n",
       "      <th>4</th>\n",
       "      <td>Grooming Frequency (value)</td>\n",
       "      <td>0.425926</td>\n",
       "      <td>0.326984</td>\n",
       "      <td>0.513333</td>\n",
       "      <td>0.350000</td>\n",
       "      <td>0.345455</td>\n",
       "      <td>0.490000</td>\n",
       "      <td>0.443750</td>\n",
       "      <td>0.493333</td>\n",
       "      <td>0.523810</td>\n",
       "      <td>0.458065</td>\n",
       "    </tr>\n",
       "    <tr>\n",
       "      <th>5</th>\n",
       "      <td>Shedding (value)</td>\n",
       "      <td>0.529183</td>\n",
       "      <td>0.558621</td>\n",
       "      <td>0.580000</td>\n",
       "      <td>0.493750</td>\n",
       "      <td>0.560000</td>\n",
       "      <td>0.520000</td>\n",
       "      <td>0.579310</td>\n",
       "      <td>0.407407</td>\n",
       "      <td>0.438095</td>\n",
       "      <td>0.580000</td>\n",
       "    </tr>\n",
       "    <tr>\n",
       "      <th>6</th>\n",
       "      <td>Energy Level (value)</td>\n",
       "      <td>0.712915</td>\n",
       "      <td>0.681250</td>\n",
       "      <td>0.766667</td>\n",
       "      <td>0.712500</td>\n",
       "      <td>0.781818</td>\n",
       "      <td>0.660000</td>\n",
       "      <td>0.812500</td>\n",
       "      <td>0.686667</td>\n",
       "      <td>0.590476</td>\n",
       "      <td>0.741935</td>\n",
       "    </tr>\n",
       "    <tr>\n",
       "      <th>7</th>\n",
       "      <td>Trainability (value)</td>\n",
       "      <td>0.624506</td>\n",
       "      <td>0.583333</td>\n",
       "      <td>0.706667</td>\n",
       "      <td>0.462500</td>\n",
       "      <td>0.780000</td>\n",
       "      <td>0.600000</td>\n",
       "      <td>0.800000</td>\n",
       "      <td>0.566667</td>\n",
       "      <td>0.619048</td>\n",
       "      <td>0.620000</td>\n",
       "    </tr>\n",
       "    <tr>\n",
       "      <th>8</th>\n",
       "      <td>Demeanor (value)</td>\n",
       "      <td>0.620635</td>\n",
       "      <td>0.527660</td>\n",
       "      <td>0.546667</td>\n",
       "      <td>0.643750</td>\n",
       "      <td>0.620000</td>\n",
       "      <td>0.680000</td>\n",
       "      <td>0.668750</td>\n",
       "      <td>0.680000</td>\n",
       "      <td>0.714286</td>\n",
       "      <td>0.600000</td>\n",
       "    </tr>\n",
       "  </tbody>\n",
       "</table>\n",
       "</div>"
      ],
      "text/plain": [
       "                       Titles  All Row averages  Foundation Stock Service  \\\n",
       "0                     Ranking         95.784615                       NaN   \n",
       "1                Height (avg)         48.347546                 52.655391   \n",
       "2                Weight (avg)         22.524113                 27.153528   \n",
       "3              Lifespan (avg)         12.579044                 12.546875   \n",
       "4  Grooming Frequency (value)          0.425926                  0.326984   \n",
       "5            Shedding (value)          0.529183                  0.558621   \n",
       "6        Energy Level (value)          0.712915                  0.681250   \n",
       "7        Trainability (value)          0.624506                  0.583333   \n",
       "8            Demeanor (value)          0.620635                  0.527660   \n",
       "\n",
       "   Herding Group  Hound Group  Miscellaneous Class  Non-Sporting Group  \\\n",
       "0     107.733333   126.806452                  NaN           81.000000   \n",
       "1      49.879250    56.078437            42.891364           36.678810   \n",
       "2      22.150427    25.252338            14.999475           12.830184   \n",
       "3      12.316667    12.296875            13.227273           13.285714   \n",
       "4       0.513333     0.350000             0.345455            0.490000   \n",
       "5       0.580000     0.493750             0.560000            0.520000   \n",
       "6       0.766667     0.712500             0.781818            0.660000   \n",
       "7       0.706667     0.462500             0.780000            0.600000   \n",
       "8       0.546667     0.643750             0.620000            0.680000   \n",
       "\n",
       "   Sporting Group  Terrier Group  Toy Group  Working Group  \n",
       "0       90.967742     109.483871  67.095238      73.033333  \n",
       "1       53.155645      35.150323  24.765000      64.196452  \n",
       "2       23.308795      11.010589   4.314527      42.813267  \n",
       "3       12.596774      13.483871  13.857143      10.693548  \n",
       "4        0.443750       0.493333   0.523810       0.458065  \n",
       "5        0.579310       0.407407   0.438095       0.580000  \n",
       "6        0.812500       0.686667   0.590476       0.741935  \n",
       "7        0.800000       0.566667   0.619048       0.620000  \n",
       "8        0.668750       0.680000   0.714286       0.600000  "
      ]
     },
     "execution_count": 7,
     "metadata": {},
     "output_type": "execute_result"
    }
   ],
   "source": [
    "# Convert relevant columns to numeric\n",
    "numeric_columns = final_df.columns[2:]\n",
    "final_df[numeric_columns] = final_df[numeric_columns].apply(pd.to_numeric, errors='coerce')\n",
    "\n",
    "# Calculate overall averages for each column\n",
    "overall_averages = final_df.drop([\"Breed\", \"Breed Group\"], axis=1).mean()\n",
    "\n",
    "# Group by 'Breed Group' and calculate averages for each group\n",
    "grouped_averages = final_df.groupby('Breed Group').mean()\n",
    "\n",
    "# Create the new DataFrame 'Filtered_df'\n",
    "column_names = final_df.columns[2:]  # skipping 'Breed' and 'Breed Group'\n",
    "\n",
    "# Place holder\n",
    "averages_data = {\n",
    "    'Titles': column_names.tolist(),\n",
    "    'All Row averages': overall_averages[column_names].values.tolist(),\n",
    "}\n",
    "\n",
    "# Iterate through the unique values of 'Breed Group'\n",
    "for group in grouped_averages.index:\n",
    "    group_averages = grouped_averages.loc[group, column_names].values.tolist()\n",
    "    averages_data[group] = group_averages\n",
    "\n",
    "Filtered_df = pd.DataFrame(averages_data)\n",
    "\n",
    "#print\n",
    "Filtered_df"
   ]
  },
  {
   "cell_type": "code",
   "execution_count": 8,
   "id": "d05c0592",
   "metadata": {},
   "outputs": [
    {
     "data": {
      "text/html": [
       "<div>\n",
       "<style scoped>\n",
       "    .dataframe tbody tr th:only-of-type {\n",
       "        vertical-align: middle;\n",
       "    }\n",
       "\n",
       "    .dataframe tbody tr th {\n",
       "        vertical-align: top;\n",
       "    }\n",
       "\n",
       "    .dataframe thead th {\n",
       "        text-align: right;\n",
       "    }\n",
       "</style>\n",
       "<table border=\"1\" class=\"dataframe\">\n",
       "  <thead>\n",
       "    <tr style=\"text-align: right;\">\n",
       "      <th></th>\n",
       "      <th>Titles</th>\n",
       "      <th>All Row averages</th>\n",
       "      <th>Foundation Stock Service</th>\n",
       "      <th>Herding Group</th>\n",
       "      <th>Hound Group</th>\n",
       "      <th>Miscellaneous Class</th>\n",
       "      <th>Non-Sporting Group</th>\n",
       "      <th>Sporting Group</th>\n",
       "      <th>Terrier Group</th>\n",
       "      <th>Toy Group</th>\n",
       "      <th>Working Group</th>\n",
       "    </tr>\n",
       "  </thead>\n",
       "  <tbody>\n",
       "    <tr>\n",
       "      <th>0</th>\n",
       "      <td>Ranking</td>\n",
       "      <td>0.498878</td>\n",
       "      <td>NaN</td>\n",
       "      <td>0.561111</td>\n",
       "      <td>0.660450</td>\n",
       "      <td>NaN</td>\n",
       "      <td>0.421875</td>\n",
       "      <td>0.473790</td>\n",
       "      <td>0.570228</td>\n",
       "      <td>0.349454</td>\n",
       "      <td>0.380382</td>\n",
       "    </tr>\n",
       "    <tr>\n",
       "      <th>1</th>\n",
       "      <td>Height (avg)</td>\n",
       "      <td>0.604269</td>\n",
       "      <td>0.658110</td>\n",
       "      <td>0.623413</td>\n",
       "      <td>0.700893</td>\n",
       "      <td>0.536075</td>\n",
       "      <td>0.458428</td>\n",
       "      <td>0.664363</td>\n",
       "      <td>0.439324</td>\n",
       "      <td>0.309524</td>\n",
       "      <td>0.802355</td>\n",
       "    </tr>\n",
       "    <tr>\n",
       "      <th>2</th>\n",
       "      <td>Weight (avg)</td>\n",
       "      <td>0.275873</td>\n",
       "      <td>0.332574</td>\n",
       "      <td>0.271296</td>\n",
       "      <td>0.309288</td>\n",
       "      <td>0.183712</td>\n",
       "      <td>0.157143</td>\n",
       "      <td>0.285484</td>\n",
       "      <td>0.134857</td>\n",
       "      <td>0.052844</td>\n",
       "      <td>0.524373</td>\n",
       "    </tr>\n",
       "    <tr>\n",
       "      <th>3</th>\n",
       "      <td>Lifespan (avg)</td>\n",
       "      <td>0.739944</td>\n",
       "      <td>0.738051</td>\n",
       "      <td>0.724510</td>\n",
       "      <td>0.723346</td>\n",
       "      <td>0.778075</td>\n",
       "      <td>0.781513</td>\n",
       "      <td>0.740987</td>\n",
       "      <td>0.793169</td>\n",
       "      <td>0.815126</td>\n",
       "      <td>0.629032</td>\n",
       "    </tr>\n",
       "    <tr>\n",
       "      <th>4</th>\n",
       "      <td>Grooming Frequency (value)</td>\n",
       "      <td>0.425926</td>\n",
       "      <td>0.326984</td>\n",
       "      <td>0.513333</td>\n",
       "      <td>0.350000</td>\n",
       "      <td>0.345455</td>\n",
       "      <td>0.490000</td>\n",
       "      <td>0.443750</td>\n",
       "      <td>0.493333</td>\n",
       "      <td>0.523810</td>\n",
       "      <td>0.458065</td>\n",
       "    </tr>\n",
       "    <tr>\n",
       "      <th>5</th>\n",
       "      <td>Shedding (value)</td>\n",
       "      <td>0.529183</td>\n",
       "      <td>0.558621</td>\n",
       "      <td>0.580000</td>\n",
       "      <td>0.493750</td>\n",
       "      <td>0.560000</td>\n",
       "      <td>0.520000</td>\n",
       "      <td>0.579310</td>\n",
       "      <td>0.407407</td>\n",
       "      <td>0.438095</td>\n",
       "      <td>0.580000</td>\n",
       "    </tr>\n",
       "    <tr>\n",
       "      <th>6</th>\n",
       "      <td>Energy Level (value)</td>\n",
       "      <td>0.712915</td>\n",
       "      <td>0.681250</td>\n",
       "      <td>0.766667</td>\n",
       "      <td>0.712500</td>\n",
       "      <td>0.781818</td>\n",
       "      <td>0.660000</td>\n",
       "      <td>0.812500</td>\n",
       "      <td>0.686667</td>\n",
       "      <td>0.590476</td>\n",
       "      <td>0.741935</td>\n",
       "    </tr>\n",
       "    <tr>\n",
       "      <th>7</th>\n",
       "      <td>Trainability (value)</td>\n",
       "      <td>0.624506</td>\n",
       "      <td>0.583333</td>\n",
       "      <td>0.706667</td>\n",
       "      <td>0.462500</td>\n",
       "      <td>0.780000</td>\n",
       "      <td>0.600000</td>\n",
       "      <td>0.800000</td>\n",
       "      <td>0.566667</td>\n",
       "      <td>0.619048</td>\n",
       "      <td>0.620000</td>\n",
       "    </tr>\n",
       "    <tr>\n",
       "      <th>8</th>\n",
       "      <td>Demeanor (value)</td>\n",
       "      <td>0.620635</td>\n",
       "      <td>0.527660</td>\n",
       "      <td>0.546667</td>\n",
       "      <td>0.643750</td>\n",
       "      <td>0.620000</td>\n",
       "      <td>0.680000</td>\n",
       "      <td>0.668750</td>\n",
       "      <td>0.680000</td>\n",
       "      <td>0.714286</td>\n",
       "      <td>0.600000</td>\n",
       "    </tr>\n",
       "  </tbody>\n",
       "</table>\n",
       "</div>"
      ],
      "text/plain": [
       "                       Titles  All Row averages  Foundation Stock Service  \\\n",
       "0                     Ranking          0.498878                       NaN   \n",
       "1                Height (avg)          0.604269                  0.658110   \n",
       "2                Weight (avg)          0.275873                  0.332574   \n",
       "3              Lifespan (avg)          0.739944                  0.738051   \n",
       "4  Grooming Frequency (value)          0.425926                  0.326984   \n",
       "5            Shedding (value)          0.529183                  0.558621   \n",
       "6        Energy Level (value)          0.712915                  0.681250   \n",
       "7        Trainability (value)          0.624506                  0.583333   \n",
       "8            Demeanor (value)          0.620635                  0.527660   \n",
       "\n",
       "   Herding Group  Hound Group  Miscellaneous Class  Non-Sporting Group  \\\n",
       "0       0.561111     0.660450                  NaN            0.421875   \n",
       "1       0.623413     0.700893             0.536075            0.458428   \n",
       "2       0.271296     0.309288             0.183712            0.157143   \n",
       "3       0.724510     0.723346             0.778075            0.781513   \n",
       "4       0.513333     0.350000             0.345455            0.490000   \n",
       "5       0.580000     0.493750             0.560000            0.520000   \n",
       "6       0.766667     0.712500             0.781818            0.660000   \n",
       "7       0.706667     0.462500             0.780000            0.600000   \n",
       "8       0.546667     0.643750             0.620000            0.680000   \n",
       "\n",
       "   Sporting Group  Terrier Group  Toy Group  Working Group  \n",
       "0        0.473790       0.570228   0.349454       0.380382  \n",
       "1        0.664363       0.439324   0.309524       0.802355  \n",
       "2        0.285484       0.134857   0.052844       0.524373  \n",
       "3        0.740987       0.793169   0.815126       0.629032  \n",
       "4        0.443750       0.493333   0.523810       0.458065  \n",
       "5        0.579310       0.407407   0.438095       0.580000  \n",
       "6        0.812500       0.686667   0.590476       0.741935  \n",
       "7        0.800000       0.566667   0.619048       0.620000  \n",
       "8        0.668750       0.680000   0.714286       0.600000  "
      ]
     },
     "execution_count": 8,
     "metadata": {},
     "output_type": "execute_result"
    }
   ],
   "source": [
    "# Calculate scaling factors based on maximum values of each column\n",
    "scaling_factors = {}\n",
    "for column in column_names:\n",
    "    max_value = final_df[column].max()\n",
    "    scaling_factors[column] = 1 / max_value\n",
    "\n",
    "# Apply scaling factors\n",
    "for column in column_names:\n",
    "    if column in scaling_factors:\n",
    "        overall_averages[column] *= scaling_factors[column]\n",
    "        grouped_averages[column] *= scaling_factors[column]\n",
    "\n",
    "# Place holder\n",
    "scaled_averages_data = {\n",
    "    'Titles': column_names.tolist(),\n",
    "    'All Row averages': overall_averages[column_names].values.tolist(),\n",
    "}\n",
    "\n",
    "# Iterate through the unique values of 'Breed Group' for scaled values\n",
    "for group in grouped_averages.index:\n",
    "    group_averages = grouped_averages.loc[group, column_names].values.tolist()\n",
    "    scaled_averages_data[group] = group_averages\n",
    "\n",
    "# Create the scaled DataFrame 'Scaled_Filtered_df'\n",
    "Scaled_Filtered_df = pd.DataFrame(scaled_averages_data)\n",
    "\n",
    "# Print the scaled DataFrame\n",
    "Scaled_Filtered_df"
   ]
  },
  {
   "cell_type": "code",
   "execution_count": 10,
   "id": "046b1362",
   "metadata": {
    "scrolled": false
   },
   "outputs": [
    {
     "data": {
      "application/vnd.plotly.v1+json": {
       "config": {
        "plotlyServerURL": "https://plot.ly"
       },
       "data": [
        {
         "fill": "toself",
         "hovertemplate": "All Row averages=%{r}<br>Titles=%{theta}<extra></extra>",
         "legendgroup": "",
         "line": {
          "color": "red",
          "dash": "solid"
         },
         "marker": {
          "symbol": "circle"
         },
         "mode": "lines",
         "name": "",
         "r": [
          0.4988782051282051,
          0.6042687908496722,
          0.27587316176470594,
          0.7399437716262975,
          0.4259259259259271,
          0.5291828793774308,
          0.7129151291512914,
          0.6245059288537549,
          0.6206349206349208,
          0.4988782051282051
         ],
         "showlegend": false,
         "subplot": "polar",
         "theta": [
          "Ranking",
          "Height (avg)",
          "Weight (avg)",
          "Lifespan (avg)",
          "Grooming Frequency (value)",
          "Shedding (value)",
          "Energy Level (value)",
          "Trainability (value)",
          "Demeanor (value)",
          "Ranking"
         ],
         "type": "scatterpolar"
        }
       ],
       "layout": {
        "legend": {
         "tracegroupgap": 0
        },
        "polar": {
         "angularaxis": {
          "direction": "clockwise",
          "rotation": 90
         },
         "domain": {
          "x": [
           0,
           1
          ],
          "y": [
           0,
           1
          ]
         }
        },
        "template": {
         "data": {
          "bar": [
           {
            "error_x": {
             "color": "#2a3f5f"
            },
            "error_y": {
             "color": "#2a3f5f"
            },
            "marker": {
             "line": {
              "color": "#E5ECF6",
              "width": 0.5
             },
             "pattern": {
              "fillmode": "overlay",
              "size": 10,
              "solidity": 0.2
             }
            },
            "type": "bar"
           }
          ],
          "barpolar": [
           {
            "marker": {
             "line": {
              "color": "#E5ECF6",
              "width": 0.5
             },
             "pattern": {
              "fillmode": "overlay",
              "size": 10,
              "solidity": 0.2
             }
            },
            "type": "barpolar"
           }
          ],
          "carpet": [
           {
            "aaxis": {
             "endlinecolor": "#2a3f5f",
             "gridcolor": "white",
             "linecolor": "white",
             "minorgridcolor": "white",
             "startlinecolor": "#2a3f5f"
            },
            "baxis": {
             "endlinecolor": "#2a3f5f",
             "gridcolor": "white",
             "linecolor": "white",
             "minorgridcolor": "white",
             "startlinecolor": "#2a3f5f"
            },
            "type": "carpet"
           }
          ],
          "choropleth": [
           {
            "colorbar": {
             "outlinewidth": 0,
             "ticks": ""
            },
            "type": "choropleth"
           }
          ],
          "contour": [
           {
            "colorbar": {
             "outlinewidth": 0,
             "ticks": ""
            },
            "colorscale": [
             [
              0,
              "#0d0887"
             ],
             [
              0.1111111111111111,
              "#46039f"
             ],
             [
              0.2222222222222222,
              "#7201a8"
             ],
             [
              0.3333333333333333,
              "#9c179e"
             ],
             [
              0.4444444444444444,
              "#bd3786"
             ],
             [
              0.5555555555555556,
              "#d8576b"
             ],
             [
              0.6666666666666666,
              "#ed7953"
             ],
             [
              0.7777777777777778,
              "#fb9f3a"
             ],
             [
              0.8888888888888888,
              "#fdca26"
             ],
             [
              1,
              "#f0f921"
             ]
            ],
            "type": "contour"
           }
          ],
          "contourcarpet": [
           {
            "colorbar": {
             "outlinewidth": 0,
             "ticks": ""
            },
            "type": "contourcarpet"
           }
          ],
          "heatmap": [
           {
            "colorbar": {
             "outlinewidth": 0,
             "ticks": ""
            },
            "colorscale": [
             [
              0,
              "#0d0887"
             ],
             [
              0.1111111111111111,
              "#46039f"
             ],
             [
              0.2222222222222222,
              "#7201a8"
             ],
             [
              0.3333333333333333,
              "#9c179e"
             ],
             [
              0.4444444444444444,
              "#bd3786"
             ],
             [
              0.5555555555555556,
              "#d8576b"
             ],
             [
              0.6666666666666666,
              "#ed7953"
             ],
             [
              0.7777777777777778,
              "#fb9f3a"
             ],
             [
              0.8888888888888888,
              "#fdca26"
             ],
             [
              1,
              "#f0f921"
             ]
            ],
            "type": "heatmap"
           }
          ],
          "heatmapgl": [
           {
            "colorbar": {
             "outlinewidth": 0,
             "ticks": ""
            },
            "colorscale": [
             [
              0,
              "#0d0887"
             ],
             [
              0.1111111111111111,
              "#46039f"
             ],
             [
              0.2222222222222222,
              "#7201a8"
             ],
             [
              0.3333333333333333,
              "#9c179e"
             ],
             [
              0.4444444444444444,
              "#bd3786"
             ],
             [
              0.5555555555555556,
              "#d8576b"
             ],
             [
              0.6666666666666666,
              "#ed7953"
             ],
             [
              0.7777777777777778,
              "#fb9f3a"
             ],
             [
              0.8888888888888888,
              "#fdca26"
             ],
             [
              1,
              "#f0f921"
             ]
            ],
            "type": "heatmapgl"
           }
          ],
          "histogram": [
           {
            "marker": {
             "pattern": {
              "fillmode": "overlay",
              "size": 10,
              "solidity": 0.2
             }
            },
            "type": "histogram"
           }
          ],
          "histogram2d": [
           {
            "colorbar": {
             "outlinewidth": 0,
             "ticks": ""
            },
            "colorscale": [
             [
              0,
              "#0d0887"
             ],
             [
              0.1111111111111111,
              "#46039f"
             ],
             [
              0.2222222222222222,
              "#7201a8"
             ],
             [
              0.3333333333333333,
              "#9c179e"
             ],
             [
              0.4444444444444444,
              "#bd3786"
             ],
             [
              0.5555555555555556,
              "#d8576b"
             ],
             [
              0.6666666666666666,
              "#ed7953"
             ],
             [
              0.7777777777777778,
              "#fb9f3a"
             ],
             [
              0.8888888888888888,
              "#fdca26"
             ],
             [
              1,
              "#f0f921"
             ]
            ],
            "type": "histogram2d"
           }
          ],
          "histogram2dcontour": [
           {
            "colorbar": {
             "outlinewidth": 0,
             "ticks": ""
            },
            "colorscale": [
             [
              0,
              "#0d0887"
             ],
             [
              0.1111111111111111,
              "#46039f"
             ],
             [
              0.2222222222222222,
              "#7201a8"
             ],
             [
              0.3333333333333333,
              "#9c179e"
             ],
             [
              0.4444444444444444,
              "#bd3786"
             ],
             [
              0.5555555555555556,
              "#d8576b"
             ],
             [
              0.6666666666666666,
              "#ed7953"
             ],
             [
              0.7777777777777778,
              "#fb9f3a"
             ],
             [
              0.8888888888888888,
              "#fdca26"
             ],
             [
              1,
              "#f0f921"
             ]
            ],
            "type": "histogram2dcontour"
           }
          ],
          "mesh3d": [
           {
            "colorbar": {
             "outlinewidth": 0,
             "ticks": ""
            },
            "type": "mesh3d"
           }
          ],
          "parcoords": [
           {
            "line": {
             "colorbar": {
              "outlinewidth": 0,
              "ticks": ""
             }
            },
            "type": "parcoords"
           }
          ],
          "pie": [
           {
            "automargin": true,
            "type": "pie"
           }
          ],
          "scatter": [
           {
            "fillpattern": {
             "fillmode": "overlay",
             "size": 10,
             "solidity": 0.2
            },
            "type": "scatter"
           }
          ],
          "scatter3d": [
           {
            "line": {
             "colorbar": {
              "outlinewidth": 0,
              "ticks": ""
             }
            },
            "marker": {
             "colorbar": {
              "outlinewidth": 0,
              "ticks": ""
             }
            },
            "type": "scatter3d"
           }
          ],
          "scattercarpet": [
           {
            "marker": {
             "colorbar": {
              "outlinewidth": 0,
              "ticks": ""
             }
            },
            "type": "scattercarpet"
           }
          ],
          "scattergeo": [
           {
            "marker": {
             "colorbar": {
              "outlinewidth": 0,
              "ticks": ""
             }
            },
            "type": "scattergeo"
           }
          ],
          "scattergl": [
           {
            "marker": {
             "colorbar": {
              "outlinewidth": 0,
              "ticks": ""
             }
            },
            "type": "scattergl"
           }
          ],
          "scattermapbox": [
           {
            "marker": {
             "colorbar": {
              "outlinewidth": 0,
              "ticks": ""
             }
            },
            "type": "scattermapbox"
           }
          ],
          "scatterpolar": [
           {
            "marker": {
             "colorbar": {
              "outlinewidth": 0,
              "ticks": ""
             }
            },
            "type": "scatterpolar"
           }
          ],
          "scatterpolargl": [
           {
            "marker": {
             "colorbar": {
              "outlinewidth": 0,
              "ticks": ""
             }
            },
            "type": "scatterpolargl"
           }
          ],
          "scatterternary": [
           {
            "marker": {
             "colorbar": {
              "outlinewidth": 0,
              "ticks": ""
             }
            },
            "type": "scatterternary"
           }
          ],
          "surface": [
           {
            "colorbar": {
             "outlinewidth": 0,
             "ticks": ""
            },
            "colorscale": [
             [
              0,
              "#0d0887"
             ],
             [
              0.1111111111111111,
              "#46039f"
             ],
             [
              0.2222222222222222,
              "#7201a8"
             ],
             [
              0.3333333333333333,
              "#9c179e"
             ],
             [
              0.4444444444444444,
              "#bd3786"
             ],
             [
              0.5555555555555556,
              "#d8576b"
             ],
             [
              0.6666666666666666,
              "#ed7953"
             ],
             [
              0.7777777777777778,
              "#fb9f3a"
             ],
             [
              0.8888888888888888,
              "#fdca26"
             ],
             [
              1,
              "#f0f921"
             ]
            ],
            "type": "surface"
           }
          ],
          "table": [
           {
            "cells": {
             "fill": {
              "color": "#EBF0F8"
             },
             "line": {
              "color": "white"
             }
            },
            "header": {
             "fill": {
              "color": "#C8D4E3"
             },
             "line": {
              "color": "white"
             }
            },
            "type": "table"
           }
          ]
         },
         "layout": {
          "annotationdefaults": {
           "arrowcolor": "#2a3f5f",
           "arrowhead": 0,
           "arrowwidth": 1
          },
          "autotypenumbers": "strict",
          "coloraxis": {
           "colorbar": {
            "outlinewidth": 0,
            "ticks": ""
           }
          },
          "colorscale": {
           "diverging": [
            [
             0,
             "#8e0152"
            ],
            [
             0.1,
             "#c51b7d"
            ],
            [
             0.2,
             "#de77ae"
            ],
            [
             0.3,
             "#f1b6da"
            ],
            [
             0.4,
             "#fde0ef"
            ],
            [
             0.5,
             "#f7f7f7"
            ],
            [
             0.6,
             "#e6f5d0"
            ],
            [
             0.7,
             "#b8e186"
            ],
            [
             0.8,
             "#7fbc41"
            ],
            [
             0.9,
             "#4d9221"
            ],
            [
             1,
             "#276419"
            ]
           ],
           "sequential": [
            [
             0,
             "#0d0887"
            ],
            [
             0.1111111111111111,
             "#46039f"
            ],
            [
             0.2222222222222222,
             "#7201a8"
            ],
            [
             0.3333333333333333,
             "#9c179e"
            ],
            [
             0.4444444444444444,
             "#bd3786"
            ],
            [
             0.5555555555555556,
             "#d8576b"
            ],
            [
             0.6666666666666666,
             "#ed7953"
            ],
            [
             0.7777777777777778,
             "#fb9f3a"
            ],
            [
             0.8888888888888888,
             "#fdca26"
            ],
            [
             1,
             "#f0f921"
            ]
           ],
           "sequentialminus": [
            [
             0,
             "#0d0887"
            ],
            [
             0.1111111111111111,
             "#46039f"
            ],
            [
             0.2222222222222222,
             "#7201a8"
            ],
            [
             0.3333333333333333,
             "#9c179e"
            ],
            [
             0.4444444444444444,
             "#bd3786"
            ],
            [
             0.5555555555555556,
             "#d8576b"
            ],
            [
             0.6666666666666666,
             "#ed7953"
            ],
            [
             0.7777777777777778,
             "#fb9f3a"
            ],
            [
             0.8888888888888888,
             "#fdca26"
            ],
            [
             1,
             "#f0f921"
            ]
           ]
          },
          "colorway": [
           "#636efa",
           "#EF553B",
           "#00cc96",
           "#ab63fa",
           "#FFA15A",
           "#19d3f3",
           "#FF6692",
           "#B6E880",
           "#FF97FF",
           "#FECB52"
          ],
          "font": {
           "color": "#2a3f5f"
          },
          "geo": {
           "bgcolor": "white",
           "lakecolor": "white",
           "landcolor": "#E5ECF6",
           "showlakes": true,
           "showland": true,
           "subunitcolor": "white"
          },
          "hoverlabel": {
           "align": "left"
          },
          "hovermode": "closest",
          "mapbox": {
           "style": "light"
          },
          "paper_bgcolor": "white",
          "plot_bgcolor": "#E5ECF6",
          "polar": {
           "angularaxis": {
            "gridcolor": "white",
            "linecolor": "white",
            "ticks": ""
           },
           "bgcolor": "#E5ECF6",
           "radialaxis": {
            "gridcolor": "white",
            "linecolor": "white",
            "ticks": ""
           }
          },
          "scene": {
           "xaxis": {
            "backgroundcolor": "#E5ECF6",
            "gridcolor": "white",
            "gridwidth": 2,
            "linecolor": "white",
            "showbackground": true,
            "ticks": "",
            "zerolinecolor": "white"
           },
           "yaxis": {
            "backgroundcolor": "#E5ECF6",
            "gridcolor": "white",
            "gridwidth": 2,
            "linecolor": "white",
            "showbackground": true,
            "ticks": "",
            "zerolinecolor": "white"
           },
           "zaxis": {
            "backgroundcolor": "#E5ECF6",
            "gridcolor": "white",
            "gridwidth": 2,
            "linecolor": "white",
            "showbackground": true,
            "ticks": "",
            "zerolinecolor": "white"
           }
          },
          "shapedefaults": {
           "line": {
            "color": "#2a3f5f"
           }
          },
          "ternary": {
           "aaxis": {
            "gridcolor": "white",
            "linecolor": "white",
            "ticks": ""
           },
           "baxis": {
            "gridcolor": "white",
            "linecolor": "white",
            "ticks": ""
           },
           "bgcolor": "#E5ECF6",
           "caxis": {
            "gridcolor": "white",
            "linecolor": "white",
            "ticks": ""
           }
          },
          "title": {
           "x": 0.05
          },
          "xaxis": {
           "automargin": true,
           "gridcolor": "white",
           "linecolor": "white",
           "ticks": "",
           "title": {
            "standoff": 15
           },
           "zerolinecolor": "white",
           "zerolinewidth": 2
          },
          "yaxis": {
           "automargin": true,
           "gridcolor": "white",
           "linecolor": "white",
           "ticks": "",
           "title": {
            "standoff": 15
           },
           "zerolinecolor": "white",
           "zerolinewidth": 2
          }
         }
        },
        "title": {
         "text": "Radar Chart"
        }
       }
      },
      "text/html": [
       "<div>                            <div id=\"86faaf05-860a-4552-8855-ce48eae14dc1\" class=\"plotly-graph-div\" style=\"height:525px; width:100%;\"></div>            <script type=\"text/javascript\">                require([\"plotly\"], function(Plotly) {                    window.PLOTLYENV=window.PLOTLYENV || {};                                    if (document.getElementById(\"86faaf05-860a-4552-8855-ce48eae14dc1\")) {                    Plotly.newPlot(                        \"86faaf05-860a-4552-8855-ce48eae14dc1\",                        [{\"hovertemplate\":\"All Row averages=%{r}\\u003cbr\\u003eTitles=%{theta}\\u003cextra\\u003e\\u003c\\u002fextra\\u003e\",\"legendgroup\":\"\",\"line\":{\"color\":\"red\",\"dash\":\"solid\"},\"marker\":{\"symbol\":\"circle\"},\"mode\":\"lines\",\"name\":\"\",\"r\":[0.4988782051282051,0.6042687908496722,0.27587316176470594,0.7399437716262975,0.4259259259259271,0.5291828793774308,0.7129151291512914,0.6245059288537549,0.6206349206349208,0.4988782051282051],\"showlegend\":false,\"subplot\":\"polar\",\"theta\":[\"Ranking\",\"Height (avg)\",\"Weight (avg)\",\"Lifespan (avg)\",\"Grooming Frequency (value)\",\"Shedding (value)\",\"Energy Level (value)\",\"Trainability (value)\",\"Demeanor (value)\",\"Ranking\"],\"type\":\"scatterpolar\",\"fill\":\"toself\"}],                        {\"template\":{\"data\":{\"histogram2dcontour\":[{\"type\":\"histogram2dcontour\",\"colorbar\":{\"outlinewidth\":0,\"ticks\":\"\"},\"colorscale\":[[0.0,\"#0d0887\"],[0.1111111111111111,\"#46039f\"],[0.2222222222222222,\"#7201a8\"],[0.3333333333333333,\"#9c179e\"],[0.4444444444444444,\"#bd3786\"],[0.5555555555555556,\"#d8576b\"],[0.6666666666666666,\"#ed7953\"],[0.7777777777777778,\"#fb9f3a\"],[0.8888888888888888,\"#fdca26\"],[1.0,\"#f0f921\"]]}],\"choropleth\":[{\"type\":\"choropleth\",\"colorbar\":{\"outlinewidth\":0,\"ticks\":\"\"}}],\"histogram2d\":[{\"type\":\"histogram2d\",\"colorbar\":{\"outlinewidth\":0,\"ticks\":\"\"},\"colorscale\":[[0.0,\"#0d0887\"],[0.1111111111111111,\"#46039f\"],[0.2222222222222222,\"#7201a8\"],[0.3333333333333333,\"#9c179e\"],[0.4444444444444444,\"#bd3786\"],[0.5555555555555556,\"#d8576b\"],[0.6666666666666666,\"#ed7953\"],[0.7777777777777778,\"#fb9f3a\"],[0.8888888888888888,\"#fdca26\"],[1.0,\"#f0f921\"]]}],\"heatmap\":[{\"type\":\"heatmap\",\"colorbar\":{\"outlinewidth\":0,\"ticks\":\"\"},\"colorscale\":[[0.0,\"#0d0887\"],[0.1111111111111111,\"#46039f\"],[0.2222222222222222,\"#7201a8\"],[0.3333333333333333,\"#9c179e\"],[0.4444444444444444,\"#bd3786\"],[0.5555555555555556,\"#d8576b\"],[0.6666666666666666,\"#ed7953\"],[0.7777777777777778,\"#fb9f3a\"],[0.8888888888888888,\"#fdca26\"],[1.0,\"#f0f921\"]]}],\"heatmapgl\":[{\"type\":\"heatmapgl\",\"colorbar\":{\"outlinewidth\":0,\"ticks\":\"\"},\"colorscale\":[[0.0,\"#0d0887\"],[0.1111111111111111,\"#46039f\"],[0.2222222222222222,\"#7201a8\"],[0.3333333333333333,\"#9c179e\"],[0.4444444444444444,\"#bd3786\"],[0.5555555555555556,\"#d8576b\"],[0.6666666666666666,\"#ed7953\"],[0.7777777777777778,\"#fb9f3a\"],[0.8888888888888888,\"#fdca26\"],[1.0,\"#f0f921\"]]}],\"contourcarpet\":[{\"type\":\"contourcarpet\",\"colorbar\":{\"outlinewidth\":0,\"ticks\":\"\"}}],\"contour\":[{\"type\":\"contour\",\"colorbar\":{\"outlinewidth\":0,\"ticks\":\"\"},\"colorscale\":[[0.0,\"#0d0887\"],[0.1111111111111111,\"#46039f\"],[0.2222222222222222,\"#7201a8\"],[0.3333333333333333,\"#9c179e\"],[0.4444444444444444,\"#bd3786\"],[0.5555555555555556,\"#d8576b\"],[0.6666666666666666,\"#ed7953\"],[0.7777777777777778,\"#fb9f3a\"],[0.8888888888888888,\"#fdca26\"],[1.0,\"#f0f921\"]]}],\"surface\":[{\"type\":\"surface\",\"colorbar\":{\"outlinewidth\":0,\"ticks\":\"\"},\"colorscale\":[[0.0,\"#0d0887\"],[0.1111111111111111,\"#46039f\"],[0.2222222222222222,\"#7201a8\"],[0.3333333333333333,\"#9c179e\"],[0.4444444444444444,\"#bd3786\"],[0.5555555555555556,\"#d8576b\"],[0.6666666666666666,\"#ed7953\"],[0.7777777777777778,\"#fb9f3a\"],[0.8888888888888888,\"#fdca26\"],[1.0,\"#f0f921\"]]}],\"mesh3d\":[{\"type\":\"mesh3d\",\"colorbar\":{\"outlinewidth\":0,\"ticks\":\"\"}}],\"scatter\":[{\"fillpattern\":{\"fillmode\":\"overlay\",\"size\":10,\"solidity\":0.2},\"type\":\"scatter\"}],\"parcoords\":[{\"type\":\"parcoords\",\"line\":{\"colorbar\":{\"outlinewidth\":0,\"ticks\":\"\"}}}],\"scatterpolargl\":[{\"type\":\"scatterpolargl\",\"marker\":{\"colorbar\":{\"outlinewidth\":0,\"ticks\":\"\"}}}],\"bar\":[{\"error_x\":{\"color\":\"#2a3f5f\"},\"error_y\":{\"color\":\"#2a3f5f\"},\"marker\":{\"line\":{\"color\":\"#E5ECF6\",\"width\":0.5},\"pattern\":{\"fillmode\":\"overlay\",\"size\":10,\"solidity\":0.2}},\"type\":\"bar\"}],\"scattergeo\":[{\"type\":\"scattergeo\",\"marker\":{\"colorbar\":{\"outlinewidth\":0,\"ticks\":\"\"}}}],\"scatterpolar\":[{\"type\":\"scatterpolar\",\"marker\":{\"colorbar\":{\"outlinewidth\":0,\"ticks\":\"\"}}}],\"histogram\":[{\"marker\":{\"pattern\":{\"fillmode\":\"overlay\",\"size\":10,\"solidity\":0.2}},\"type\":\"histogram\"}],\"scattergl\":[{\"type\":\"scattergl\",\"marker\":{\"colorbar\":{\"outlinewidth\":0,\"ticks\":\"\"}}}],\"scatter3d\":[{\"type\":\"scatter3d\",\"line\":{\"colorbar\":{\"outlinewidth\":0,\"ticks\":\"\"}},\"marker\":{\"colorbar\":{\"outlinewidth\":0,\"ticks\":\"\"}}}],\"scattermapbox\":[{\"type\":\"scattermapbox\",\"marker\":{\"colorbar\":{\"outlinewidth\":0,\"ticks\":\"\"}}}],\"scatterternary\":[{\"type\":\"scatterternary\",\"marker\":{\"colorbar\":{\"outlinewidth\":0,\"ticks\":\"\"}}}],\"scattercarpet\":[{\"type\":\"scattercarpet\",\"marker\":{\"colorbar\":{\"outlinewidth\":0,\"ticks\":\"\"}}}],\"carpet\":[{\"aaxis\":{\"endlinecolor\":\"#2a3f5f\",\"gridcolor\":\"white\",\"linecolor\":\"white\",\"minorgridcolor\":\"white\",\"startlinecolor\":\"#2a3f5f\"},\"baxis\":{\"endlinecolor\":\"#2a3f5f\",\"gridcolor\":\"white\",\"linecolor\":\"white\",\"minorgridcolor\":\"white\",\"startlinecolor\":\"#2a3f5f\"},\"type\":\"carpet\"}],\"table\":[{\"cells\":{\"fill\":{\"color\":\"#EBF0F8\"},\"line\":{\"color\":\"white\"}},\"header\":{\"fill\":{\"color\":\"#C8D4E3\"},\"line\":{\"color\":\"white\"}},\"type\":\"table\"}],\"barpolar\":[{\"marker\":{\"line\":{\"color\":\"#E5ECF6\",\"width\":0.5},\"pattern\":{\"fillmode\":\"overlay\",\"size\":10,\"solidity\":0.2}},\"type\":\"barpolar\"}],\"pie\":[{\"automargin\":true,\"type\":\"pie\"}]},\"layout\":{\"autotypenumbers\":\"strict\",\"colorway\":[\"#636efa\",\"#EF553B\",\"#00cc96\",\"#ab63fa\",\"#FFA15A\",\"#19d3f3\",\"#FF6692\",\"#B6E880\",\"#FF97FF\",\"#FECB52\"],\"font\":{\"color\":\"#2a3f5f\"},\"hovermode\":\"closest\",\"hoverlabel\":{\"align\":\"left\"},\"paper_bgcolor\":\"white\",\"plot_bgcolor\":\"#E5ECF6\",\"polar\":{\"bgcolor\":\"#E5ECF6\",\"angularaxis\":{\"gridcolor\":\"white\",\"linecolor\":\"white\",\"ticks\":\"\"},\"radialaxis\":{\"gridcolor\":\"white\",\"linecolor\":\"white\",\"ticks\":\"\"}},\"ternary\":{\"bgcolor\":\"#E5ECF6\",\"aaxis\":{\"gridcolor\":\"white\",\"linecolor\":\"white\",\"ticks\":\"\"},\"baxis\":{\"gridcolor\":\"white\",\"linecolor\":\"white\",\"ticks\":\"\"},\"caxis\":{\"gridcolor\":\"white\",\"linecolor\":\"white\",\"ticks\":\"\"}},\"coloraxis\":{\"colorbar\":{\"outlinewidth\":0,\"ticks\":\"\"}},\"colorscale\":{\"sequential\":[[0.0,\"#0d0887\"],[0.1111111111111111,\"#46039f\"],[0.2222222222222222,\"#7201a8\"],[0.3333333333333333,\"#9c179e\"],[0.4444444444444444,\"#bd3786\"],[0.5555555555555556,\"#d8576b\"],[0.6666666666666666,\"#ed7953\"],[0.7777777777777778,\"#fb9f3a\"],[0.8888888888888888,\"#fdca26\"],[1.0,\"#f0f921\"]],\"sequentialminus\":[[0.0,\"#0d0887\"],[0.1111111111111111,\"#46039f\"],[0.2222222222222222,\"#7201a8\"],[0.3333333333333333,\"#9c179e\"],[0.4444444444444444,\"#bd3786\"],[0.5555555555555556,\"#d8576b\"],[0.6666666666666666,\"#ed7953\"],[0.7777777777777778,\"#fb9f3a\"],[0.8888888888888888,\"#fdca26\"],[1.0,\"#f0f921\"]],\"diverging\":[[0,\"#8e0152\"],[0.1,\"#c51b7d\"],[0.2,\"#de77ae\"],[0.3,\"#f1b6da\"],[0.4,\"#fde0ef\"],[0.5,\"#f7f7f7\"],[0.6,\"#e6f5d0\"],[0.7,\"#b8e186\"],[0.8,\"#7fbc41\"],[0.9,\"#4d9221\"],[1,\"#276419\"]]},\"xaxis\":{\"gridcolor\":\"white\",\"linecolor\":\"white\",\"ticks\":\"\",\"title\":{\"standoff\":15},\"zerolinecolor\":\"white\",\"automargin\":true,\"zerolinewidth\":2},\"yaxis\":{\"gridcolor\":\"white\",\"linecolor\":\"white\",\"ticks\":\"\",\"title\":{\"standoff\":15},\"zerolinecolor\":\"white\",\"automargin\":true,\"zerolinewidth\":2},\"scene\":{\"xaxis\":{\"backgroundcolor\":\"#E5ECF6\",\"gridcolor\":\"white\",\"linecolor\":\"white\",\"showbackground\":true,\"ticks\":\"\",\"zerolinecolor\":\"white\",\"gridwidth\":2},\"yaxis\":{\"backgroundcolor\":\"#E5ECF6\",\"gridcolor\":\"white\",\"linecolor\":\"white\",\"showbackground\":true,\"ticks\":\"\",\"zerolinecolor\":\"white\",\"gridwidth\":2},\"zaxis\":{\"backgroundcolor\":\"#E5ECF6\",\"gridcolor\":\"white\",\"linecolor\":\"white\",\"showbackground\":true,\"ticks\":\"\",\"zerolinecolor\":\"white\",\"gridwidth\":2}},\"shapedefaults\":{\"line\":{\"color\":\"#2a3f5f\"}},\"annotationdefaults\":{\"arrowcolor\":\"#2a3f5f\",\"arrowhead\":0,\"arrowwidth\":1},\"geo\":{\"bgcolor\":\"white\",\"landcolor\":\"#E5ECF6\",\"subunitcolor\":\"white\",\"showland\":true,\"showlakes\":true,\"lakecolor\":\"white\"},\"title\":{\"x\":0.05},\"mapbox\":{\"style\":\"light\"}}},\"polar\":{\"domain\":{\"x\":[0.0,1.0],\"y\":[0.0,1.0]},\"angularaxis\":{\"direction\":\"clockwise\",\"rotation\":90}},\"legend\":{\"tracegroupgap\":0},\"title\":{\"text\":\"Radar Chart\"}},                        {\"responsive\": true}                    ).then(function(){\n",
       "                            \n",
       "var gd = document.getElementById('86faaf05-860a-4552-8855-ce48eae14dc1');\n",
       "var x = new MutationObserver(function (mutations, observer) {{\n",
       "        var display = window.getComputedStyle(gd).display;\n",
       "        if (!display || display === 'none') {{\n",
       "            console.log([gd, 'removed!']);\n",
       "            Plotly.purge(gd);\n",
       "            observer.disconnect();\n",
       "        }}\n",
       "}});\n",
       "\n",
       "// Listen for the removal of the full notebook cells\n",
       "var notebookContainer = gd.closest('#notebook-container');\n",
       "if (notebookContainer) {{\n",
       "    x.observe(notebookContainer, {childList: true});\n",
       "}}\n",
       "\n",
       "// Listen for the clearing of the current output cell\n",
       "var outputEl = gd.closest('.output');\n",
       "if (outputEl) {{\n",
       "    x.observe(outputEl, {childList: true});\n",
       "}}\n",
       "\n",
       "                        })                };                });            </script>        </div>"
      ]
     },
     "metadata": {},
     "output_type": "display_data"
    }
   ],
   "source": [
    "# Fill NaN values with a placeholder value of 0 (bugfix)\n",
    "Scaled_Filtered_df.fillna(0, inplace=True)\n",
    "\n",
    "# Create the main radar chart\n",
    "fig = px.line_polar(\n",
    "    Scaled_Filtered_df,\n",
    "    r=\"All Row averages\",\n",
    "    theta=\"Titles\",\n",
    "    line_close=True,\n",
    "    title=\"Radar Chart\",\n",
    "    color_discrete_sequence=['red'],  # Set line color\n",
    "    line_dash_sequence=['solid']      # Set line style\n",
    ")\n",
    "\n",
    "# Add a trace for secondary plot\n",
    "#fig.add_trace(\n",
    "    #px.line_polar(\n",
    "        #Scaled_Filtered_df,\n",
    "        #r=\"Foundation Stock Service\",\n",
    "        #theta=\"Titles\",\n",
    "        #line_close=True,\n",
    "        #color_discrete_sequence=['blue'],  # Set line color\n",
    "        #line_dash_sequence=['solid']       # Set line style\n",
    "    #).data[0]\n",
    "#)\n",
    "\n",
    "# Set create infill\n",
    "fig.update_traces(fill='toself')\n",
    "\n",
    "# Show the radar chart\n",
    "fig.show()"
   ]
  },
  {
   "cell_type": "code",
   "execution_count": null,
   "id": "b0818ff6",
   "metadata": {},
   "outputs": [],
   "source": []
  },
  {
   "cell_type": "code",
   "execution_count": null,
   "id": "a6ebdda0",
   "metadata": {},
   "outputs": [],
   "source": []
  }
 ],
 "metadata": {
  "kernelspec": {
   "display_name": "pyData2",
   "language": "python",
   "name": "myenv"
  },
  "language_info": {
   "codemirror_mode": {
    "name": "ipython",
    "version": 3
   },
   "file_extension": ".py",
   "mimetype": "text/x-python",
   "name": "python",
   "nbconvert_exporter": "python",
   "pygments_lexer": "ipython3",
   "version": "3.7.16"
  }
 },
 "nbformat": 4,
 "nbformat_minor": 5
}
