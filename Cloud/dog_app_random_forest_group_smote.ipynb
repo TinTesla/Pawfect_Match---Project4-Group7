{
 "cells": [
  {
   "cell_type": "markdown",
   "metadata": {},
   "source": [
    "# Dog breed App prediction: Random Forests"
   ]
  },
  {
   "cell_type": "code",
   "execution_count": 1,
   "metadata": {},
   "outputs": [],
   "source": [
    "# Initial imports\n",
    "import pandas as pd\n",
    "import numpy as np\n",
    "from pathlib import Path\n",
    "from sklearn.ensemble import RandomForestClassifier\n",
    "from sklearn.preprocessing import StandardScaler\n",
    "from sklearn.model_selection import train_test_split\n",
    "from sklearn.metrics import confusion_matrix, accuracy_score, classification_report\n",
    "%matplotlib inline\n"
   ]
  },
  {
   "cell_type": "markdown",
   "metadata": {},
   "source": [
    "## Loading and Preprocessing Loans Encoded Data"
   ]
  },
  {
   "cell_type": "code",
   "execution_count": 2,
   "metadata": {},
   "outputs": [
    {
     "data": {
      "text/html": [
       "<div>\n",
       "<style scoped>\n",
       "    .dataframe tbody tr th:only-of-type {\n",
       "        vertical-align: middle;\n",
       "    }\n",
       "\n",
       "    .dataframe tbody tr th {\n",
       "        vertical-align: top;\n",
       "    }\n",
       "\n",
       "    .dataframe thead th {\n",
       "        text-align: right;\n",
       "    }\n",
       "</style>\n",
       "<table border=\"1\" class=\"dataframe\">\n",
       "  <thead>\n",
       "    <tr style=\"text-align: right;\">\n",
       "      <th></th>\n",
       "      <th>breed</th>\n",
       "      <th>description</th>\n",
       "      <th>temperament</th>\n",
       "      <th>popularity</th>\n",
       "      <th>min_height</th>\n",
       "      <th>max_height</th>\n",
       "      <th>min_weight</th>\n",
       "      <th>max_weight</th>\n",
       "      <th>min_expectancy</th>\n",
       "      <th>max_expectancy</th>\n",
       "      <th>...</th>\n",
       "      <th>energy_level_value</th>\n",
       "      <th>energy_level_category</th>\n",
       "      <th>trainability_value</th>\n",
       "      <th>trainability_category</th>\n",
       "      <th>demeanor_value</th>\n",
       "      <th>demeanor_category</th>\n",
       "      <th>akc_breed</th>\n",
       "      <th>kaggle_breed</th>\n",
       "      <th>Img_Link</th>\n",
       "      <th>group_values</th>\n",
       "    </tr>\n",
       "  </thead>\n",
       "  <tbody>\n",
       "    <tr>\n",
       "      <th>0</th>\n",
       "      <td>Affenpinscher</td>\n",
       "      <td>The Affen’s apish look has been described many...</td>\n",
       "      <td>Confident, Famously Funny, Fearless</td>\n",
       "      <td>148</td>\n",
       "      <td>10</td>\n",
       "      <td>12</td>\n",
       "      <td>7</td>\n",
       "      <td>12</td>\n",
       "      <td>12</td>\n",
       "      <td>15</td>\n",
       "      <td>...</td>\n",
       "      <td>0.6</td>\n",
       "      <td>Regular Exercise</td>\n",
       "      <td>0.8</td>\n",
       "      <td>Easy Training</td>\n",
       "      <td>1.0</td>\n",
       "      <td>Outgoing</td>\n",
       "      <td>affenpinscher</td>\n",
       "      <td>affenpinscher</td>\n",
       "      <td>https://www.akc.org/wp-content/uploads/2017/11...</td>\n",
       "      <td>0</td>\n",
       "    </tr>\n",
       "    <tr>\n",
       "      <th>1</th>\n",
       "      <td>Afghan Hound</td>\n",
       "      <td>The Afghan Hound is an ancient breed, his whol...</td>\n",
       "      <td>Dignified, Profoundly Loyal, Aristocratic</td>\n",
       "      <td>113</td>\n",
       "      <td>25</td>\n",
       "      <td>27</td>\n",
       "      <td>50</td>\n",
       "      <td>60</td>\n",
       "      <td>12</td>\n",
       "      <td>15</td>\n",
       "      <td>...</td>\n",
       "      <td>0.8</td>\n",
       "      <td>Energetic</td>\n",
       "      <td>0.2</td>\n",
       "      <td>May be Stubborn</td>\n",
       "      <td>0.2</td>\n",
       "      <td>Aloof/Wary</td>\n",
       "      <td>afghan_hound</td>\n",
       "      <td>afghan_hound</td>\n",
       "      <td>https://s3.amazonaws.com/cdn-origin-etr.akc.or...</td>\n",
       "      <td>1</td>\n",
       "    </tr>\n",
       "    <tr>\n",
       "      <th>2</th>\n",
       "      <td>Airedale Terrier</td>\n",
       "      <td>The Airedale Terrier is the largest of all ter...</td>\n",
       "      <td>Friendly, Clever, Courageous</td>\n",
       "      <td>60</td>\n",
       "      <td>21</td>\n",
       "      <td>23</td>\n",
       "      <td>44</td>\n",
       "      <td>50</td>\n",
       "      <td>11</td>\n",
       "      <td>14</td>\n",
       "      <td>...</td>\n",
       "      <td>0.6</td>\n",
       "      <td>Regular Exercise</td>\n",
       "      <td>1.0</td>\n",
       "      <td>Eager to Please</td>\n",
       "      <td>0.8</td>\n",
       "      <td>Friendly</td>\n",
       "      <td>airedale_terrier</td>\n",
       "      <td>airedale</td>\n",
       "      <td>https://s3.amazonaws.com/cdn-origin-etr.akc.or...</td>\n",
       "      <td>2</td>\n",
       "    </tr>\n",
       "    <tr>\n",
       "      <th>3</th>\n",
       "      <td>Akita</td>\n",
       "      <td>Akitas are burly, heavy-boned spitz-type dogs ...</td>\n",
       "      <td>Courageous, Dignified, Profoundly Loyal</td>\n",
       "      <td>47</td>\n",
       "      <td>24</td>\n",
       "      <td>28</td>\n",
       "      <td>70</td>\n",
       "      <td>130</td>\n",
       "      <td>10</td>\n",
       "      <td>13</td>\n",
       "      <td>...</td>\n",
       "      <td>0.8</td>\n",
       "      <td>Energetic</td>\n",
       "      <td>1.0</td>\n",
       "      <td>Eager to Please</td>\n",
       "      <td>0.6</td>\n",
       "      <td>Alert/Responsive</td>\n",
       "      <td>akita</td>\n",
       "      <td>NaN</td>\n",
       "      <td>https://s3.amazonaws.com/cdn-origin-etr.akc.or...</td>\n",
       "      <td>3</td>\n",
       "    </tr>\n",
       "    <tr>\n",
       "      <th>4</th>\n",
       "      <td>Alaskan Malamute</td>\n",
       "      <td>The Alaskan Malamute stands 23 to 25 inches at...</td>\n",
       "      <td>Affectionate, Loyal, Playful</td>\n",
       "      <td>58</td>\n",
       "      <td>23</td>\n",
       "      <td>25</td>\n",
       "      <td>75</td>\n",
       "      <td>85</td>\n",
       "      <td>10</td>\n",
       "      <td>14</td>\n",
       "      <td>...</td>\n",
       "      <td>0.8</td>\n",
       "      <td>Energetic</td>\n",
       "      <td>0.4</td>\n",
       "      <td>Independent</td>\n",
       "      <td>0.8</td>\n",
       "      <td>Friendly</td>\n",
       "      <td>alaskan_malamute</td>\n",
       "      <td>malamute</td>\n",
       "      <td>https://s3.amazonaws.com/cdn-origin-etr.akc.or...</td>\n",
       "      <td>3</td>\n",
       "    </tr>\n",
       "  </tbody>\n",
       "</table>\n",
       "<p>5 rows × 25 columns</p>\n",
       "</div>"
      ],
      "text/plain": [
       "              breed                                        description  \\\n",
       "0     Affenpinscher  The Affen’s apish look has been described many...   \n",
       "1      Afghan Hound  The Afghan Hound is an ancient breed, his whol...   \n",
       "2  Airedale Terrier  The Airedale Terrier is the largest of all ter...   \n",
       "3             Akita  Akitas are burly, heavy-boned spitz-type dogs ...   \n",
       "4  Alaskan Malamute  The Alaskan Malamute stands 23 to 25 inches at...   \n",
       "\n",
       "                                 temperament  popularity  min_height  \\\n",
       "0        Confident, Famously Funny, Fearless         148          10   \n",
       "1  Dignified, Profoundly Loyal, Aristocratic         113          25   \n",
       "2               Friendly, Clever, Courageous          60          21   \n",
       "3    Courageous, Dignified, Profoundly Loyal          47          24   \n",
       "4               Affectionate, Loyal, Playful          58          23   \n",
       "\n",
       "   max_height  min_weight  max_weight  min_expectancy  max_expectancy  ...  \\\n",
       "0          12           7          12              12              15  ...   \n",
       "1          27          50          60              12              15  ...   \n",
       "2          23          44          50              11              14  ...   \n",
       "3          28          70         130              10              13  ...   \n",
       "4          25          75          85              10              14  ...   \n",
       "\n",
       "  energy_level_value  energy_level_category trainability_value  \\\n",
       "0                0.6       Regular Exercise                0.8   \n",
       "1                0.8              Energetic                0.2   \n",
       "2                0.6       Regular Exercise                1.0   \n",
       "3                0.8              Energetic                1.0   \n",
       "4                0.8              Energetic                0.4   \n",
       "\n",
       "   trainability_category demeanor_value  demeanor_category         akc_breed  \\\n",
       "0          Easy Training            1.0           Outgoing     affenpinscher   \n",
       "1        May be Stubborn            0.2         Aloof/Wary      afghan_hound   \n",
       "2        Eager to Please            0.8           Friendly  airedale_terrier   \n",
       "3        Eager to Please            0.6   Alert/Responsive             akita   \n",
       "4            Independent            0.8           Friendly  alaskan_malamute   \n",
       "\n",
       "    kaggle_breed                                           Img_Link  \\\n",
       "0  affenpinscher  https://www.akc.org/wp-content/uploads/2017/11...   \n",
       "1   afghan_hound  https://s3.amazonaws.com/cdn-origin-etr.akc.or...   \n",
       "2       airedale  https://s3.amazonaws.com/cdn-origin-etr.akc.or...   \n",
       "3            NaN  https://s3.amazonaws.com/cdn-origin-etr.akc.or...   \n",
       "4       malamute  https://s3.amazonaws.com/cdn-origin-etr.akc.or...   \n",
       "\n",
       "   group_values  \n",
       "0             0  \n",
       "1             1  \n",
       "2             2  \n",
       "3             3  \n",
       "4             3  \n",
       "\n",
       "[5 rows x 25 columns]"
      ]
     },
     "execution_count": 2,
     "metadata": {},
     "output_type": "execute_result"
    }
   ],
   "source": [
    "# Loading data\n",
    "file_path = Path(\"../sourcedata/akc_dog_breed_cln.csv\")\n",
    "dog_breed_val_df = pd.read_csv(file_path)\n",
    "dog_breed_val_df.head()"
   ]
  },
  {
   "cell_type": "code",
   "execution_count": 3,
   "metadata": {},
   "outputs": [
    {
     "data": {
      "text/plain": [
       "Index(['breed', 'description', 'temperament', 'popularity', 'min_height',\n",
       "       'max_height', 'min_weight', 'max_weight', 'min_expectancy',\n",
       "       'max_expectancy', 'group', 'grooming_frequency_value',\n",
       "       'grooming_frequency_category', 'shedding_value', 'shedding_category',\n",
       "       'energy_level_value', 'energy_level_category', 'trainability_value',\n",
       "       'trainability_category', 'demeanor_value', 'demeanor_category',\n",
       "       'akc_breed', 'kaggle_breed', 'Img_Link', 'group_values'],\n",
       "      dtype='object')"
      ]
     },
     "execution_count": 3,
     "metadata": {},
     "output_type": "execute_result"
    }
   ],
   "source": [
    "dog_breed_val_df.columns"
   ]
  },
  {
   "cell_type": "code",
   "execution_count": 4,
   "metadata": {},
   "outputs": [
    {
     "data": {
      "text/plain": [
       "(304700, 25)"
      ]
     },
     "execution_count": 4,
     "metadata": {},
     "output_type": "execute_result"
    }
   ],
   "source": [
    "dog_breed_new_df = [dog_breed_val_df,dog_breed_val_df,dog_breed_val_df,dog_breed_val_df,dog_breed_val_df,dog_breed_val_df,dog_breed_val_df,dog_breed_val_df,dog_breed_val_df,dog_breed_val_df,dog_breed_val_df]\n",
    "dog_breed_data_df = pd.concat(dog_breed_new_df)\n",
    "dog_breed_data_df = dog_breed_data_df.sample(frac = 100,replace=True).reset_index(drop=True)\n",
    "dog_breed_data_df.shape"
   ]
  },
  {
   "cell_type": "code",
   "execution_count": 5,
   "metadata": {},
   "outputs": [
    {
     "data": {
      "text/plain": [
       "Foundation Stock Service    74758\n",
       "Sporting Group              35567\n",
       "Hound Group                 35186\n",
       "Terrier Group               33960\n",
       "Working Group               33944\n",
       "Herding Group               33153\n",
       "Non-Sporting Group          23144\n",
       "Toy Group                   22878\n",
       "Miscellaneous Class         12110\n",
       "Name: group, dtype: int64"
      ]
     },
     "execution_count": 5,
     "metadata": {},
     "output_type": "execute_result"
    }
   ],
   "source": [
    "dog_breed_data_df['group'].value_counts()"
   ]
  },
  {
   "cell_type": "code",
   "execution_count": null,
   "metadata": {},
   "outputs": [],
   "source": []
  },
  {
   "cell_type": "code",
   "execution_count": 6,
   "metadata": {},
   "outputs": [
    {
     "data": {
      "text/html": [
       "<div>\n",
       "<style scoped>\n",
       "    .dataframe tbody tr th:only-of-type {\n",
       "        vertical-align: middle;\n",
       "    }\n",
       "\n",
       "    .dataframe tbody tr th {\n",
       "        vertical-align: top;\n",
       "    }\n",
       "\n",
       "    .dataframe thead th {\n",
       "        text-align: right;\n",
       "    }\n",
       "</style>\n",
       "<table border=\"1\" class=\"dataframe\">\n",
       "  <thead>\n",
       "    <tr style=\"text-align: right;\">\n",
       "      <th></th>\n",
       "      <th>popularity</th>\n",
       "      <th>min_height</th>\n",
       "      <th>max_height</th>\n",
       "      <th>min_weight</th>\n",
       "      <th>max_weight</th>\n",
       "      <th>min_expectancy</th>\n",
       "      <th>max_expectancy</th>\n",
       "      <th>grooming_frequency_value</th>\n",
       "      <th>shedding_value</th>\n",
       "      <th>energy_level_value</th>\n",
       "      <th>trainability_value</th>\n",
       "      <th>demeanor_value</th>\n",
       "    </tr>\n",
       "  </thead>\n",
       "  <tbody>\n",
       "    <tr>\n",
       "      <th>0</th>\n",
       "      <td>148</td>\n",
       "      <td>10</td>\n",
       "      <td>12</td>\n",
       "      <td>7</td>\n",
       "      <td>12</td>\n",
       "      <td>12</td>\n",
       "      <td>15</td>\n",
       "      <td>0.6</td>\n",
       "      <td>0.6</td>\n",
       "      <td>0.6</td>\n",
       "      <td>0.8</td>\n",
       "      <td>1.0</td>\n",
       "    </tr>\n",
       "    <tr>\n",
       "      <th>1</th>\n",
       "      <td>113</td>\n",
       "      <td>25</td>\n",
       "      <td>27</td>\n",
       "      <td>50</td>\n",
       "      <td>60</td>\n",
       "      <td>12</td>\n",
       "      <td>15</td>\n",
       "      <td>0.8</td>\n",
       "      <td>0.2</td>\n",
       "      <td>0.8</td>\n",
       "      <td>0.2</td>\n",
       "      <td>0.2</td>\n",
       "    </tr>\n",
       "    <tr>\n",
       "      <th>2</th>\n",
       "      <td>60</td>\n",
       "      <td>21</td>\n",
       "      <td>23</td>\n",
       "      <td>44</td>\n",
       "      <td>50</td>\n",
       "      <td>11</td>\n",
       "      <td>14</td>\n",
       "      <td>0.6</td>\n",
       "      <td>0.4</td>\n",
       "      <td>0.6</td>\n",
       "      <td>1.0</td>\n",
       "      <td>0.8</td>\n",
       "    </tr>\n",
       "    <tr>\n",
       "      <th>3</th>\n",
       "      <td>47</td>\n",
       "      <td>24</td>\n",
       "      <td>28</td>\n",
       "      <td>70</td>\n",
       "      <td>130</td>\n",
       "      <td>10</td>\n",
       "      <td>13</td>\n",
       "      <td>0.8</td>\n",
       "      <td>0.6</td>\n",
       "      <td>0.8</td>\n",
       "      <td>1.0</td>\n",
       "      <td>0.6</td>\n",
       "    </tr>\n",
       "    <tr>\n",
       "      <th>4</th>\n",
       "      <td>58</td>\n",
       "      <td>23</td>\n",
       "      <td>25</td>\n",
       "      <td>75</td>\n",
       "      <td>85</td>\n",
       "      <td>10</td>\n",
       "      <td>14</td>\n",
       "      <td>0.6</td>\n",
       "      <td>0.6</td>\n",
       "      <td>0.8</td>\n",
       "      <td>0.4</td>\n",
       "      <td>0.8</td>\n",
       "    </tr>\n",
       "  </tbody>\n",
       "</table>\n",
       "</div>"
      ],
      "text/plain": [
       "   popularity  min_height  max_height  min_weight  max_weight  min_expectancy  \\\n",
       "0         148          10          12           7          12              12   \n",
       "1         113          25          27          50          60              12   \n",
       "2          60          21          23          44          50              11   \n",
       "3          47          24          28          70         130              10   \n",
       "4          58          23          25          75          85              10   \n",
       "\n",
       "   max_expectancy  grooming_frequency_value  shedding_value  \\\n",
       "0              15                       0.6             0.6   \n",
       "1              15                       0.8             0.2   \n",
       "2              14                       0.6             0.4   \n",
       "3              13                       0.8             0.6   \n",
       "4              14                       0.6             0.6   \n",
       "\n",
       "   energy_level_value  trainability_value  demeanor_value  \n",
       "0                 0.6                 0.8             1.0  \n",
       "1                 0.8                 0.2             0.2  \n",
       "2                 0.6                 1.0             0.8  \n",
       "3                 0.8                 1.0             0.6  \n",
       "4                 0.8                 0.4             0.8  "
      ]
     },
     "execution_count": 6,
     "metadata": {},
     "output_type": "execute_result"
    }
   ],
   "source": [
    "# Define features set\n",
    "# cat_col = ['grooming_frequency_category','shedding_category', 'energy_level_category', 'trainability_category', 'demeanor_category']\n",
    "# val_col = ['grooming_frequency_value', 'shedding_value', 'energy_level_value', 'trainability_value', 'demeanor_value']\n",
    "col_to_drop = ['breed','group','description','grooming_frequency_category','shedding_category', \n",
    "                'energy_level_category', 'trainability_category', 'demeanor_category', 'temperament',\n",
    "                'akc_breed', 'kaggle_breed', 'Img_Link', 'group_values']\n",
    "X = dog_breed_val_df.copy()\n",
    "X.drop(col_to_drop, axis=1, inplace=True)\n",
    "X.head()"
   ]
  },
  {
   "cell_type": "code",
   "execution_count": 7,
   "metadata": {},
   "outputs": [
    {
     "data": {
      "text/plain": [
       "array([0, 1, 2, 3, 3, 4, 1, 5, 1, 2, 4, 2, 6, 3, 4, 7, 4, 7, 4, 2, 1, 6,\n",
       "       1, 4, 1, 4, 1, 7, 7, 2, 8, 7, 7, 7, 7, 7, 3, 5, 8, 1, 3, 1, 1, 3,\n",
       "       4, 4, 7, 2, 1, 5, 7, 3, 6, 8, 4, 4, 7, 6, 4, 0, 2, 5, 3, 2, 7, 3,\n",
       "       7, 4, 4, 4, 0, 4, 2, 6, 0, 0, 5, 3, 5, 1, 6, 6, 7, 5, 4, 6, 4, 1,\n",
       "       5, 2, 4, 4, 3, 3, 3, 4, 4, 8, 6, 1, 6, 6, 0, 7, 4, 4, 6, 7, 5, 6,\n",
       "       5, 4, 4, 3, 7, 6, 4, 6, 3, 2, 6, 6, 1, 3, 3, 3, 1, 4, 4, 1, 0, 4,\n",
       "       4, 1, 7, 6, 6, 2, 6, 1, 0, 4, 0, 4, 4, 4, 4, 5, 2, 4, 3, 4, 3, 6,\n",
       "       6, 2, 8, 4, 3, 5, 5, 0, 2, 0, 3, 7, 2, 0, 2, 4, 8, 3, 6, 3, 2, 8,\n",
       "       7, 1, 5, 2, 6, 7, 1, 0, 2, 0, 7, 4, 8, 1, 1, 1, 6, 7, 0, 5, 5, 0,\n",
       "       4, 8, 1, 4, 4, 3, 4, 0, 7, 7, 4, 7, 4, 2, 1, 1, 4, 3, 2, 8, 4, 3,\n",
       "       1, 3, 4, 5, 1, 2, 2, 4, 7, 5, 0, 4, 3, 0, 2, 1, 4, 4, 4, 4, 2, 2,\n",
       "       4, 7, 6, 4, 2, 3, 6, 4, 7, 4, 8, 4, 3, 5, 5, 4, 4, 0, 4, 4, 1, 6,\n",
       "       6, 6, 2, 2, 4, 1, 2, 6, 6, 4, 5, 4, 0], dtype=int64)"
      ]
     },
     "execution_count": 7,
     "metadata": {},
     "output_type": "execute_result"
    }
   ],
   "source": [
    "# Define target vector\n",
    "# The ravel() function is a method provided by NumPy (a popular numerical computing library for Python). \n",
    "# It's used to flatten a multi-dimensional array (or matrix) into a one-dimensional array. \n",
    "\n",
    "y = dog_breed_val_df['group_values'].ravel()\n",
    "y"
   ]
  },
  {
   "cell_type": "code",
   "execution_count": 8,
   "metadata": {},
   "outputs": [],
   "source": [
    "# Splitting into Train and Test sets\n",
    "X_train, X_test, y_train, y_test = train_test_split(X, y, random_state=78)"
   ]
  },
  {
   "cell_type": "code",
   "execution_count": 9,
   "metadata": {},
   "outputs": [],
   "source": [
    "from imblearn.over_sampling import SMOTE\n",
    "# Apply SMOTE to balance the class distribution\n",
    "smote = SMOTE(random_state=42)\n",
    "X_train_resampled, y_train_resampled = smote.fit_resample(X_train, y_train)\n"
   ]
  },
  {
   "cell_type": "code",
   "execution_count": 10,
   "metadata": {},
   "outputs": [],
   "source": [
    "# Creating StandardScaler instance\n",
    "scaler = StandardScaler()"
   ]
  },
  {
   "cell_type": "code",
   "execution_count": 11,
   "metadata": {},
   "outputs": [],
   "source": [
    "# Fitting Standard Scaller\n",
    "X_scaler = scaler.fit(X_train_resampled)"
   ]
  },
  {
   "cell_type": "code",
   "execution_count": 12,
   "metadata": {},
   "outputs": [],
   "source": [
    "# Scaling data\n",
    "X_train_scaled = X_scaler.transform(X_train_resampled)\n",
    "X_test_scaled = X_scaler.transform(X_test)"
   ]
  },
  {
   "cell_type": "markdown",
   "metadata": {},
   "source": [
    "## Fitting the Random Forest Model"
   ]
  },
  {
   "cell_type": "code",
   "execution_count": 13,
   "metadata": {},
   "outputs": [],
   "source": [
    "# Create a random forest classifier\n",
    "rf_model = RandomForestClassifier(n_estimators=500, random_state=78)"
   ]
  },
  {
   "cell_type": "code",
   "execution_count": 14,
   "metadata": {},
   "outputs": [],
   "source": [
    "# Fitting the model\n",
    "rf_model = rf_model.fit(X_train_scaled, y_train_resampled)"
   ]
  },
  {
   "cell_type": "markdown",
   "metadata": {},
   "source": [
    "## Making Predictions Using the Random Forest Model"
   ]
  },
  {
   "cell_type": "code",
   "execution_count": 15,
   "metadata": {},
   "outputs": [],
   "source": [
    "# Making predictions using the testing data\n",
    "predictions = rf_model.predict(X_test_scaled)"
   ]
  },
  {
   "cell_type": "markdown",
   "metadata": {},
   "source": [
    "## Model Evaluation"
   ]
  },
  {
   "cell_type": "code",
   "execution_count": 16,
   "metadata": {},
   "outputs": [],
   "source": [
    "# Calculating the confusion matrix\n",
    "cm = confusion_matrix(y_test, predictions)\n",
    "cm_df = pd.DataFrame(cm)\n",
    "\n",
    "#     cm, index=[\"Actual 0\", \"Actual 1\"], columns=[\"Predicted 0\", \"Predicted 1\"]\n",
    "# )\n",
    "\n",
    "# Calculating the accuracy score\n",
    "acc_score = accuracy_score(y_test, predictions)"
   ]
  },
  {
   "cell_type": "code",
   "execution_count": 17,
   "metadata": {},
   "outputs": [
    {
     "name": "stdout",
     "output_type": "stream",
     "text": [
      "Confusion Matrix\n"
     ]
    },
    {
     "data": {
      "text/html": [
       "<div>\n",
       "<style scoped>\n",
       "    .dataframe tbody tr th:only-of-type {\n",
       "        vertical-align: middle;\n",
       "    }\n",
       "\n",
       "    .dataframe tbody tr th {\n",
       "        vertical-align: top;\n",
       "    }\n",
       "\n",
       "    .dataframe thead th {\n",
       "        text-align: right;\n",
       "    }\n",
       "</style>\n",
       "<table border=\"1\" class=\"dataframe\">\n",
       "  <thead>\n",
       "    <tr style=\"text-align: right;\">\n",
       "      <th></th>\n",
       "      <th>0</th>\n",
       "      <th>1</th>\n",
       "      <th>2</th>\n",
       "      <th>3</th>\n",
       "      <th>4</th>\n",
       "      <th>5</th>\n",
       "      <th>6</th>\n",
       "      <th>7</th>\n",
       "      <th>8</th>\n",
       "    </tr>\n",
       "  </thead>\n",
       "  <tbody>\n",
       "    <tr>\n",
       "      <th>0</th>\n",
       "      <td>3</td>\n",
       "      <td>0</td>\n",
       "      <td>1</td>\n",
       "      <td>0</td>\n",
       "      <td>0</td>\n",
       "      <td>0</td>\n",
       "      <td>0</td>\n",
       "      <td>0</td>\n",
       "      <td>0</td>\n",
       "    </tr>\n",
       "    <tr>\n",
       "      <th>1</th>\n",
       "      <td>2</td>\n",
       "      <td>2</td>\n",
       "      <td>2</td>\n",
       "      <td>0</td>\n",
       "      <td>0</td>\n",
       "      <td>0</td>\n",
       "      <td>1</td>\n",
       "      <td>0</td>\n",
       "      <td>0</td>\n",
       "    </tr>\n",
       "    <tr>\n",
       "      <th>2</th>\n",
       "      <td>0</td>\n",
       "      <td>0</td>\n",
       "      <td>6</td>\n",
       "      <td>0</td>\n",
       "      <td>0</td>\n",
       "      <td>3</td>\n",
       "      <td>1</td>\n",
       "      <td>0</td>\n",
       "      <td>0</td>\n",
       "    </tr>\n",
       "    <tr>\n",
       "      <th>3</th>\n",
       "      <td>0</td>\n",
       "      <td>1</td>\n",
       "      <td>0</td>\n",
       "      <td>3</td>\n",
       "      <td>0</td>\n",
       "      <td>0</td>\n",
       "      <td>1</td>\n",
       "      <td>0</td>\n",
       "      <td>0</td>\n",
       "    </tr>\n",
       "    <tr>\n",
       "      <th>4</th>\n",
       "      <td>0</td>\n",
       "      <td>0</td>\n",
       "      <td>0</td>\n",
       "      <td>0</td>\n",
       "      <td>18</td>\n",
       "      <td>0</td>\n",
       "      <td>0</td>\n",
       "      <td>0</td>\n",
       "      <td>3</td>\n",
       "    </tr>\n",
       "    <tr>\n",
       "      <th>5</th>\n",
       "      <td>0</td>\n",
       "      <td>0</td>\n",
       "      <td>2</td>\n",
       "      <td>0</td>\n",
       "      <td>0</td>\n",
       "      <td>2</td>\n",
       "      <td>2</td>\n",
       "      <td>1</td>\n",
       "      <td>0</td>\n",
       "    </tr>\n",
       "    <tr>\n",
       "      <th>6</th>\n",
       "      <td>0</td>\n",
       "      <td>0</td>\n",
       "      <td>0</td>\n",
       "      <td>0</td>\n",
       "      <td>1</td>\n",
       "      <td>0</td>\n",
       "      <td>3</td>\n",
       "      <td>1</td>\n",
       "      <td>0</td>\n",
       "    </tr>\n",
       "    <tr>\n",
       "      <th>7</th>\n",
       "      <td>0</td>\n",
       "      <td>6</td>\n",
       "      <td>1</td>\n",
       "      <td>0</td>\n",
       "      <td>0</td>\n",
       "      <td>1</td>\n",
       "      <td>1</td>\n",
       "      <td>1</td>\n",
       "      <td>0</td>\n",
       "    </tr>\n",
       "    <tr>\n",
       "      <th>8</th>\n",
       "      <td>0</td>\n",
       "      <td>0</td>\n",
       "      <td>0</td>\n",
       "      <td>0</td>\n",
       "      <td>0</td>\n",
       "      <td>0</td>\n",
       "      <td>0</td>\n",
       "      <td>0</td>\n",
       "      <td>1</td>\n",
       "    </tr>\n",
       "  </tbody>\n",
       "</table>\n",
       "</div>"
      ],
      "text/plain": [
       "   0  1  2  3   4  5  6  7  8\n",
       "0  3  0  1  0   0  0  0  0  0\n",
       "1  2  2  2  0   0  0  1  0  0\n",
       "2  0  0  6  0   0  3  1  0  0\n",
       "3  0  1  0  3   0  0  1  0  0\n",
       "4  0  0  0  0  18  0  0  0  3\n",
       "5  0  0  2  0   0  2  2  1  0\n",
       "6  0  0  0  0   1  0  3  1  0\n",
       "7  0  6  1  0   0  1  1  1  0\n",
       "8  0  0  0  0   0  0  0  0  1"
      ]
     },
     "metadata": {},
     "output_type": "display_data"
    },
    {
     "name": "stdout",
     "output_type": "stream",
     "text": [
      "Accuracy Score : 0.5571428571428572\n",
      "Classification Report\n",
      "              precision    recall  f1-score   support\n",
      "\n",
      "           0       0.60      0.75      0.67         4\n",
      "           1       0.22      0.29      0.25         7\n",
      "           2       0.50      0.60      0.55        10\n",
      "           3       1.00      0.60      0.75         5\n",
      "           4       0.95      0.86      0.90        21\n",
      "           5       0.33      0.29      0.31         7\n",
      "           6       0.33      0.60      0.43         5\n",
      "           7       0.33      0.10      0.15        10\n",
      "           8       0.25      1.00      0.40         1\n",
      "\n",
      "    accuracy                           0.56        70\n",
      "   macro avg       0.50      0.56      0.49        70\n",
      "weighted avg       0.59      0.56      0.55        70\n",
      "\n"
     ]
    }
   ],
   "source": [
    "# Displaying results\n",
    "print(\"Confusion Matrix\")\n",
    "display(cm_df)\n",
    "print(f\"Accuracy Score : {acc_score}\")\n",
    "print(\"Classification Report\")\n",
    "print(classification_report(y_test, predictions))"
   ]
  },
  {
   "cell_type": "markdown",
   "metadata": {},
   "source": [
    "## Feature Importance"
   ]
  },
  {
   "cell_type": "code",
   "execution_count": 18,
   "metadata": {},
   "outputs": [
    {
     "data": {
      "text/plain": [
       "[(0.17706532220414545, 'popularity'),\n",
       " (0.13807286629019877, 'max_weight'),\n",
       " (0.1079050705021984, 'min_weight'),\n",
       " (0.08847223928222599, 'max_height'),\n",
       " (0.08782159144359787, 'trainability_value'),\n",
       " (0.07860293120404209, 'min_height'),\n",
       " (0.06972910015623592, 'energy_level_value'),\n",
       " (0.06135688201729197, 'demeanor_value'),\n",
       " (0.06129816284892202, 'shedding_value'),\n",
       " (0.04787736458820016, 'grooming_frequency_value'),\n",
       " (0.04711013969301956, 'min_expectancy'),\n",
       " (0.03468832976992181, 'max_expectancy')]"
      ]
     },
     "execution_count": 18,
     "metadata": {},
     "output_type": "execute_result"
    }
   ],
   "source": [
    "# Random Forests in sklearn will automatically calculate feature importance\n",
    "importances = rf_model.feature_importances_\n",
    "# We can sort the features by their importance\n",
    "sorted(zip(rf_model.feature_importances_, X.columns), reverse=True)"
   ]
  },
  {
   "cell_type": "code",
   "execution_count": 19,
   "metadata": {},
   "outputs": [
    {
     "data": {
      "text/plain": [
       "<matplotlib.axes._subplots.AxesSubplot at 0x1b69735ad08>"
      ]
     },
     "execution_count": 19,
     "metadata": {},
     "output_type": "execute_result"
    },
    {
     "data": {
      "image/png": "[encoded data removed]",
      "text/plain": [
       "<Figure size 432x288 with 1 Axes>"
      ]
     },
     "metadata": {
      "needs_background": "light"
     },
     "output_type": "display_data"
    }
   ],
   "source": [
    "# Visualize the features by importance\n",
    "importances_df = pd.DataFrame(sorted(zip(rf_model.feature_importances_, X.columns), reverse=True))\n",
    "importances_df.set_index(importances_df[1], inplace=True)\n",
    "importances_df.drop(columns=1, inplace=True)\n",
    "importances_df.rename(columns={0: 'Feature Importances'}, inplace=True)\n",
    "importances_sorted = importances_df.sort_values(by='Feature Importances')\n",
    "importances_sorted.plot(kind='barh', color='lightgreen', title= 'Features Importances', legend=False)"
   ]
  },
  {
   "cell_type": "code",
   "execution_count": 20,
   "metadata": {},
   "outputs": [
    {
     "name": "stdout",
     "output_type": "stream",
     "text": [
      "[[94.  24.  25.  50.  70.  12.  12.   0.6  0.8  0.8  0.8  0.8]]\n"
     ]
    }
   ],
   "source": [
    "# Extract the data from the Series and convert it to a numpy array\n",
    "user_val = 100\n",
    "user_input = []\n",
    "user_input = X.iloc[user_val].values\n",
    "\n",
    "\n",
    "# # Reshape the user_input to a 2-dimensional array\n",
    "user_input_reshaped = user_input.reshape(1, -1)\n",
    "\n",
    "# # Now user_input_reshaped is a 2D array\n",
    "print((user_input_reshaped))"
   ]
  },
  {
   "cell_type": "code",
   "execution_count": 21,
   "metadata": {},
   "outputs": [
    {
     "name": "stdout",
     "output_type": "stream",
     "text": [
      "[3]\n",
      "[3]\n"
     ]
    }
   ],
   "source": [
    "new_predictions = rf_model.predict(user_input_reshaped)\n",
    "print(new_predictions)\n",
    "print(y[new_predictions])"
   ]
  },
  {
   "cell_type": "code",
   "execution_count": 22,
   "metadata": {},
   "outputs": [
    {
     "name": "stdout",
     "output_type": "stream",
     "text": [
      "group           Sporting Group\n",
      "group_values                 6\n",
      "popularity                  94\n",
      "Name: 100, dtype: object\n"
     ]
    }
   ],
   "source": [
    "print(dog_breed_val_df[['group','group_values','popularity']].iloc[user_val])"
   ]
  },
  {
   "cell_type": "code",
   "execution_count": 25,
   "metadata": {},
   "outputs": [
    {
     "name": "stdout",
     "output_type": "stream",
     "text": [
      "0.5571428571428572\n"
     ]
    }
   ],
   "source": [
    "# Save Model Using Pickle\n",
    "\n",
    "from sklearn import model_selection\n",
    "from sklearn.linear_model import LogisticRegression\n",
    "import pickle\n",
    "\n",
    "# save the model to disk\n",
    "filename = 'dog_app_rf_group_pred_smote.sav'\n",
    "pickle.dump(rf_model, open(filename, 'wb'))\n",
    "\n",
    "# some time later...\n",
    "\n",
    "# load the model from disk\n",
    "loaded_model = pickle.load(open(filename, 'rb'))\n",
    "result = loaded_model.score(X_test_scaled, y_test)\n",
    "print(result)"
   ]
  }
 ],
 "metadata": {
  "file_extension": ".py",
  "kernelspec": {
   "display_name": "Python 3 (ipykernel)",
   "language": "python",
   "name": "python3"
  },
  "language_info": {
   "codemirror_mode": {
    "name": "ipython",
    "version": 3
   },
   "file_extension": ".py",
   "mimetype": "text/x-python",
   "name": "python",
   "nbconvert_exporter": "python",
   "pygments_lexer": "ipython3",
   "version": "3.7.7"
  },
  "mimetype": "text/x-python",
  "name": "python",
  "npconvert_exporter": "python",
  "pygments_lexer": "ipython3",
  "version": 3
 },
 "nbformat": 4,
 "nbformat_minor": 4
}
